{
 "cells": [
  {
   "cell_type": "code",
   "execution_count": 1,
   "metadata": {
    "collapsed": false
   },
   "outputs": [
    {
     "name": "stdout",
     "output_type": "stream",
     "text": [
      "bruker2nii.py\n"
     ]
    }
   ],
   "source": [
    "import sys\n",
    "sys.path.append(\"C:/Users/cdelettre/Documents/GitHub/b2n\")\n",
    "import bruker2nifti as b2n\n",
    "import bruker2gtab as b2gtab"
   ]
  },
  {
   "cell_type": "code",
   "execution_count": 2,
   "metadata": {
    "collapsed": false
   },
   "outputs": [
    {
     "ename": "ValueError",
     "evalue": "cannot reshape array of size 474 into shape (60,128,40,210)",
     "output_type": "error",
     "traceback": [
      "\u001b[1;31m---------------------------------------------------------------------------\u001b[0m",
      "\u001b[1;31mValueError\u001b[0m                                Traceback (most recent call last)",
      "\u001b[1;32m<ipython-input-2-b486a4e5db54>\u001b[0m in \u001b[0;36m<module>\u001b[1;34m()\u001b[0m\n\u001b[1;32m----> 1\u001b[1;33m \u001b[0mb2n\u001b[0m\u001b[1;33m.\u001b[0m\u001b[0mconvertBrukerToNifti1\u001b[0m\u001b[1;33m(\u001b[0m\u001b[1;34m'E:/Celine/Ferret_raw/P2_F25_31012015/7'\u001b[0m\u001b[1;33m,\u001b[0m\u001b[1;34m'E:/Celine/Ferret_b2n/P2_F25/result.nii.gz'\u001b[0m\u001b[1;33m)\u001b[0m\u001b[1;33m\u001b[0m\u001b[0m\n\u001b[0m",
      "\u001b[1;32mC:/Users/cdelettre/Documents/GitHub/b2n\\bruker2nifti.py\u001b[0m in \u001b[0;36mconvertBrukerToNifti1\u001b[1;34m(input_dir, output_path)\u001b[0m\n\u001b[0;32m     94\u001b[0m     \u001b[1;31m# convert binary data to array\u001b[0m\u001b[1;33m\u001b[0m\u001b[1;33m\u001b[0m\u001b[0m\n\u001b[0;32m     95\u001b[0m     \u001b[0marr0\u001b[0m\u001b[1;33m=\u001b[0m\u001b[0mnp\u001b[0m\u001b[1;33m.\u001b[0m\u001b[0mfrombuffer\u001b[0m\u001b[1;33m(\u001b[0m\u001b[0mimg\u001b[0m\u001b[1;33m,\u001b[0m\u001b[0mdata_type\u001b[0m\u001b[1;33m)\u001b[0m\u001b[1;33m;\u001b[0m\u001b[1;33m\u001b[0m\u001b[0m\n\u001b[1;32m---> 96\u001b[1;33m     \u001b[0marr\u001b[0m\u001b[1;33m=\u001b[0m\u001b[0marr0\u001b[0m\u001b[1;33m.\u001b[0m\u001b[0mreshape\u001b[0m\u001b[1;33m(\u001b[0m\u001b[0mdimy\u001b[0m\u001b[1;33m,\u001b[0m\u001b[0mdimx\u001b[0m\u001b[1;33m,\u001b[0m\u001b[0mdimz\u001b[0m\u001b[1;33m,\u001b[0m\u001b[0mnvols\u001b[0m\u001b[1;33m,\u001b[0m\u001b[0morder\u001b[0m\u001b[1;33m=\u001b[0m\u001b[1;34m'F'\u001b[0m\u001b[1;33m)\u001b[0m\u001b[1;33m.\u001b[0m\u001b[0mastype\u001b[0m\u001b[1;33m(\u001b[0m\u001b[0mfloat\u001b[0m\u001b[1;33m)\u001b[0m\u001b[1;33m\u001b[0m\u001b[0m\n\u001b[0m\u001b[0;32m     97\u001b[0m     \u001b[1;31m#arr=np.swapaxes(arr,0,1)\u001b[0m\u001b[1;33m\u001b[0m\u001b[1;33m\u001b[0m\u001b[0m\n\u001b[0;32m     98\u001b[0m     \u001b[1;31m#arr=np.flip(arr,0)\u001b[0m\u001b[1;33m\u001b[0m\u001b[1;33m\u001b[0m\u001b[0m\n",
      "\u001b[1;31mValueError\u001b[0m: cannot reshape array of size 474 into shape (60,128,40,210)"
     ]
    }
   ],
   "source": [
    "b2n.convertBrukerToNifti1('E:/Celine/Ferret_raw/P2_F25_31012015/7','E:/Celine/Ferret_b2n/P2_F25/result.nii.gz')"
   ]
  },
  {
   "cell_type": "code",
   "execution_count": 3,
   "metadata": {
    "collapsed": true
   },
   "outputs": [],
   "source": [
    "b2gtab.getBvals('E:/Celine/Ferret_raw/P2_F25_31012015/7')\n",
    "b2gtab.getBvecs('E:/Celine/Ferret_raw/P2_F25_31012015/7')"
   ]
  },
  {
   "cell_type": "code",
   "execution_count": 4,
   "metadata": {
    "collapsed": false
   },
   "outputs": [
    {
     "ename": "ValueError",
     "evalue": "cannot reshape array of size 607 into shape (96,175,70,210)",
     "output_type": "error",
     "traceback": [
      "\u001b[0;31m---------------------------------------------------------------------------\u001b[0m",
      "\u001b[0;31mValueError\u001b[0m                                Traceback (most recent call last)",
      "\u001b[0;32m<ipython-input-4-b4f223b1080e>\u001b[0m in \u001b[0;36m<module>\u001b[0;34m()\u001b[0m\n\u001b[0;32m----> 1\u001b[0;31m \u001b[0mb2n\u001b[0m\u001b[1;33m.\u001b[0m\u001b[0mconvertBrukerToNifti1\u001b[0m\u001b[1;33m(\u001b[0m\u001b[1;34m'E:/Celine/Ferret_raw/P32_F16_23052014/8'\u001b[0m\u001b[1;33m,\u001b[0m\u001b[1;34m'E:/Celine/Ferret_b2n/P32_F16/result.nii'\u001b[0m\u001b[1;33m)\u001b[0m\u001b[1;33m\u001b[0m\u001b[0m\n\u001b[0m",
      "\u001b[0;32mC:/Users/cdelettre/Documents/GitHub/b2n\\bruker2nifti.py\u001b[0m in \u001b[0;36mconvertBrukerToNifti1\u001b[0;34m(input_dir, output_path)\u001b[0m\n\u001b[1;32m     95\u001b[0m     \u001b[0marr0\u001b[0m\u001b[1;33m=\u001b[0m\u001b[0mnp\u001b[0m\u001b[1;33m.\u001b[0m\u001b[0mfrombuffer\u001b[0m\u001b[1;33m(\u001b[0m\u001b[0mimg\u001b[0m\u001b[1;33m,\u001b[0m\u001b[0mdata_type\u001b[0m\u001b[1;33m)\u001b[0m\u001b[1;33m;\u001b[0m\u001b[1;33m\u001b[0m\u001b[0m\n\u001b[1;32m     96\u001b[0m     \u001b[1;31m#print arr0\u001b[0m\u001b[1;33m\u001b[0m\u001b[1;33m\u001b[0m\u001b[0m\n\u001b[0;32m---> 97\u001b[0;31m     \u001b[0marr\u001b[0m\u001b[1;33m=\u001b[0m\u001b[0marr0\u001b[0m\u001b[1;33m.\u001b[0m\u001b[0mreshape\u001b[0m\u001b[1;33m(\u001b[0m\u001b[0mdimy\u001b[0m\u001b[1;33m,\u001b[0m\u001b[0mdimx\u001b[0m\u001b[1;33m,\u001b[0m\u001b[0mdimz\u001b[0m\u001b[1;33m,\u001b[0m\u001b[0mnvols\u001b[0m\u001b[1;33m,\u001b[0m\u001b[0morder\u001b[0m\u001b[1;33m=\u001b[0m\u001b[1;34m'F'\u001b[0m\u001b[1;33m)\u001b[0m\u001b[1;33m.\u001b[0m\u001b[0mastype\u001b[0m\u001b[1;33m(\u001b[0m\u001b[0mfloat\u001b[0m\u001b[1;33m)\u001b[0m\u001b[1;33m\u001b[0m\u001b[0m\n\u001b[0m\u001b[1;32m     98\u001b[0m     \u001b[0marr\u001b[0m\u001b[1;33m=\u001b[0m\u001b[0mnp\u001b[0m\u001b[1;33m.\u001b[0m\u001b[0mswapaxes\u001b[0m\u001b[1;33m(\u001b[0m\u001b[0marr\u001b[0m\u001b[1;33m,\u001b[0m\u001b[1;36m0\u001b[0m\u001b[1;33m,\u001b[0m\u001b[1;36m1\u001b[0m\u001b[1;33m)\u001b[0m\u001b[1;33m\u001b[0m\u001b[0m\n\u001b[1;32m     99\u001b[0m     \u001b[0marr\u001b[0m\u001b[1;33m=\u001b[0m\u001b[0mnp\u001b[0m\u001b[1;33m.\u001b[0m\u001b[0mflip\u001b[0m\u001b[1;33m(\u001b[0m\u001b[0marr\u001b[0m\u001b[1;33m,\u001b[0m\u001b[1;36m0\u001b[0m\u001b[1;33m)\u001b[0m\u001b[1;33m\u001b[0m\u001b[0m\n",
      "\u001b[0;31mValueError\u001b[0m: cannot reshape array of size 607 into shape (96,175,70,210)"
     ]
    }
   ],
   "source": [
    "b2n.convertBrukerToNifti1('E:/Celine/Ferret_raw/P32_F16_23052014/8','E:/Celine/Ferret_b2n/P32_F16/result.nii')"
   ]
  },
  {
   "cell_type": "code",
   "execution_count": 1,
   "metadata": {
    "collapsed": true
   },
   "outputs": [],
   "source": [
    "import numpy as np"
   ]
  },
  {
   "cell_type": "code",
   "execution_count": 2,
   "metadata": {
    "collapsed": false
   },
   "outputs": [
    {
     "name": "stdout",
     "output_type": "stream",
     "text": [
      "E:/Celine/Ferret_raw/P2_F25_31012015/7/pdata/2/2dseq\n",
      "1941\n"
     ]
    }
   ],
   "source": [
    "input_dir = 'E:/Celine/Ferret_raw/P2_F25_31012015/7'\n",
    "\n",
    "pdata=input_dir+'/pdata'\n",
    "\n",
    "# read binary data\n",
    "f=open(pdata+'/2/2dseq','r')\n",
    "print pdata+'/2/2dseq'\n",
    "img=f.read();\n",
    "print len(img)\n",
    "f.close()"
   ]
  },
  {
   "cell_type": "code",
   "execution_count": 3,
   "metadata": {
    "collapsed": false,
    "scrolled": true
   },
   "outputs": [
    {
     "data": {
      "text/plain": [
       "'\\xaaA\\x08\\x00)\\x08\\r\\x00\\x86\\xde\\x0f\\x00[\\x81\\x0f\\x00\\xf8\\x04\\x0b\\x00c|\\x0b\\x00\\x01e\\x12\\x00\\n\\x16\\x05\\x00\\xc9\\xae\\x12\\x00\\xa1\\x0c\\x06\\x00c\\xe9\\x0b\\x00rb\\r\\x00\\xca\\x88\\x12\\x00*\\xfa\\x10\\x00N\\xa2\\x12\\x00\\xe4!\\r\\x00WN\\x0c\\x00\\xe1;\\x0c\\x00Z\\x87\\x12\\x00p)\\x0c\\x00\\x95\\x81\\x08\\x00\\xc8\\t\\x12\\x00\\xc1\\x9e\\x0c\\x00*\\\\\\t\\x00\\x181\\x0e\\x00\\x0c\\xb0\\x12\\x00$\\x85\\x12\\x00R\\xc8\\x07\\x00\\xcf\\x94\\x12\\x00]\\xcb\\x11\\x00\\x9d\\xf8\\t\\x00yV\\x0f\\x00\\xf9\\xa3\\n\\x00\\x04\\xc3\\x02\\x00\\x88q\\x0b\\x00\\x17\\xbb\\x10\\x001U\\n\\x00&\\xad\\x02\\x00\\x120\\x08\\x00\\xb7\\xd8\\t\\x00\\xc8\\x96\\x12\\x00I\\xaa\\x04\\x00l!\\n\\x00\\xac\\xe8\\t\\x00R\\xd2\\x11\\x00\\x11\\x10\\x12\\x00\\xe8t\\x12\\x00\\xa7a\\x06\\x00\\xcb\\x86\\x11\\x00\\xb3`\\x12\\x00\\xcb\\xf6\\x11\\x00M\\xab\\x12\\x00\\x86z\\x07\\x00^\\x82\\x12\\x00R\\x0f\\n\\x00\\x82\\xda\\x0e\\x00 \\xca\\t\\x00 \\x9f\\n\\x00\\xeb\\xb4\\x0f\\x00\\xc6\\xdc\\t\\x00\\xf6\\x1e\\r\\x00f\\xe7\\x0b\\x00\\xcc\\xde\\n\\x00\\xb40\\x08\\x00:e\\x12\\x00\\xbb\\xa4\\x12\\x00\\xfb\\xc1\\x0e\\x00\\x1d\\xbf\\x07\\x00g\\x9e\\x0f\\x00\\xd4\\x0b\\x0c\\x00G&\\n\\x00Pn\\x0c\\x00B\\x0f\\x0b\\x00\\xaa\\x96\\x11\\x00*\\xe9\\x0e\\x00\\x04X\\x05\\x00\\x15\\x14\\t\\x00\\xebT\\n\\x00x\\xef\\t\\x00\\xc7|\\x0c\\x00O\\xdd\\x0c\\x00n\\xff\\x05\\x00\\xcb\\xef\\t\\x00\\x86\\xf8\\x05\\x00\\xb8\\x95\\x12\\x00\\x1fV\\x0f\\x00\\xccP\\r\\x00\\xdb\\xdd\\x04\\x00\\xde}\\n\\x00\\x9c6\\r\\x00\\xde\\xad\\x12\\x00\\xc9\\x8f\\x08\\x00\\x02\\x13\\x0e\\x00O\\xb1\\x11\\x00\\xb8\\x98\\x12\\x00U\\xcc\\x04\\x00_\\xf1\\x10\\x00\\xad]\\x0c\\x00\\xf0+\\x10\\x00\\xe5v\\x0c\\x00%\\n\\r\\x00\\xe0\\xd9\\x0e\\x00\\xa4.\\x0c\\x00v\\x0f\\r\\x00\\xc5\\xce\\x08\\x00c\\x97\\r\\x00\\xfc\\xaf\\x11\\x00\\xdco\\x0c\\x00\\xaf\\xee\\x06\\x00\\xfd\\xf7\\x08\\x00\\xd9\\x95\\x08\\x00\\rE\\x08\\x00\\xa7f\\t\\x00m\\x82\\x0f\\x00\\x13\\xa5\\x12\\x00\\xac\\xc7\\x07\\x00\\xf1\\xa8\\x07\\x00X\\xaf\\x10\\x00\\xc8X\\x10\\x00\\x95\\x0f\\x06\\x00:Y\\x0e\\x00f^\\x0b\\x00RC\\x10\\x00\\xd1\\xaf\\x12\\x00AO\\x0e\\x00\\xba\\xbc\\x07\\x00\\xad(\\x11\\x00h\\x0f\\x05\\x00\\xba\\x83\\n\\x00,\\x06\\x11\\x00p9\\x0f\\x00\\xe4g\\x0b\\x00\\'\\x04\\x11\\x00g\\xaf\\x12\\x00\\xc0U\\x12\\x00\\xfe\\xaa\\x08\\x00\\xfe\\xec\\x08\\x00UD\\x0e\\x00\\xce\\t\\x08\\x00\\x88q\\x05\\x00u\\xbf\\x08\\x00K\\x9d\\x0f\\x00\\xa3@\\x11\\x00\\x0fW\\x0e\\x00\\x86#\\x11\\x00\"\\xc4\\x10\\x00\\r\\xb4\\x11\\x00 \\x18\\x0f\\x00\\x86\\xa0\\x12\\x007^\\x11\\x00\\x1d\\xb8\\x07\\x00\\x1c\\xeb\\x0e\\x00\\x9c\\xaa\\x0f\\x00@\\x92\\x12\\x00 \\x10\\r\\x00,\\x88\\x06\\x00da\\x12\\x00h\\x9c\\x0c\\x00\\xf3\\xfb\\x05\\x00\\x0e\\xe7\\x10\\x00\\x1c\\x9c\\x11\\x005\\x19\\x0b\\x00\\xd8Q\\t\\x00gn\\x05\\x00K\\x9d\\x12\\x00~\\xc1\\x0f\\x00D\\x90\\x0b\\x00n\\xab\\x11\\x00\\x0bc\\x07\\x00\\xe0\\xdf\\r\\x00J\\xa2\\x08\\x00\\xa7\\xa5\\x12\\x00/\\xf3\\x05\\x00cU\\x0c\\x00Y\\x91\\x0f\\x00N\\x8f\\x08\\x00\\xea\\xeb\\x0f\\x00\\x94q\\x08\\x00zl\\x08\\x00\\xf9\\xa3\\x0e\\x00C\\xae\\x0c\\x00\\x06\\xbb\\x11\\x00\\xa9\\xa5\\x05\\x00(\\xdb\\x10\\x00\\x14\\xe5\\x0c\\x00\\x96%\\x12\\x00\\xf2\\xfb\\x04\\x00\\xa5\\x82\\x0f\\x00\\xab^\\x10\\x00\\xeaw\\x12\\x00dJ\\n\\x00w,\\x12\\x00`$\\x10\\x00\\xb4\\xa3\\x12\\x00\"\\xd6\\t\\x00\\xdbT\\t\\x00\\xe2\\x1d\\r\\x00\\xadN\\x07\\x00\\x84\\xea\\x0f\\x00\\xc3!\\x12\\x00\\xc1\\xdb\\t\\x00\\x98p\\x12\\x00\\xed\\xd4\\r\\x00\\x16N\\t\\x00\\xf1]\\x12\\x00$\\xff\\t\\x00\\xfb|\\x0f\\x00\\xee)\\n\\x00I.\\x0e\\x007A\\x08\\x00z\\x8e\\x0b\\x000\\x0c\\x05\\x00\\xb3\\xef\\t\\x00\\xe1\\xce\\x0f\\x00\\xec\\xc0\\x02\\x00\\xace\\n\\x001\\xdd\\x05\\x00\\xa9W\\n\\x00\\xde\\xe7\\x10\\x00\\x1c\\xe9\\x10\\x00x}\\x12\\x00b\\xaf\\x0c\\x00\\nK\\x0e\\x00\\xc5B\\x12\\x00\\xcb\\xc3\\x0b\\x00b\\xf1\\x08\\x00\\t\\x84\\r\\x007<\\x12\\x00\\xa7\\xab\\x0b\\x00H\\xdb\\r\\x00\\xcd\\xa6\\x0f\\x00\\xea\\xbb\\n\\x00\\x88\\xf8\\x03\\x00\\xa1\\xfc\\n\\x00Zm\\x11\\x00h\\xba\\r\\x00;\\xad\\x0f\\x00\\x16\\xb0\\n\\x00o\\xac\\x0c\\x00\\xa5\\xad\\x0c\\x00\\x01\\xf8\\x0f\\x00\\tR\\x05\\x00Z*\\x07\\x00\\x85\\xa1\\r\\x00\\xbdy\\x0f\\x00}e\\x0e\\x00\\xea#\\x0e\\x00\\x0e \\x08\\x00\\xe2\\xfc\\n\\x00\\xe7\\'\\x0f\\x00\\x1fF\\x0c\\x00@\\xcd\\x07\\x00\\xe2U\\x12\\x00\\t\\xbe\\x07\\x00\\\\\\x95\\x05\\x00`\\xfd\\x0f\\x00\\xc4\\xc3\\x0f\\x00\\x92\\xb5\\r\\x00\\x1bJ\\x0f\\x00x\\x11\\x07\\x00B\\xfb\\r\\x00\\x16\\xa0\\x12\\x00\\x03\\xe2\\x04\\x00\\x08\\x96\\n\\x00\\x9b\\x97\\x06\\x00\\xd8>\\x06\\x00\\n\\x85\\x0f\\x00%\\t\\x0f\\x00?\\xde\\t\\x00R\\r\\x0c\\x00Z,\\x0f\\x00\\x91\\xad\\x12\\x00\\x8e\\xd9\\x10\\x00\\x0eE\\x12\\x00\\xc6)\\x0b\\x00\\xee^\\r\\x00F\\xfb\\x07\\x00\\xe8T\\x12\\x00\\x9d.\\x0b\\x00\\xda\\xa1\\x0f\\x00\\xab?\\x08\\x00\\x82v\\x12\\x00}\\xa5\\x11\\x00\\x1bs\\x04\\x00\\x10`\\x05\\x00/\\xd4\\x08\\x00\\x01\\x12\\x0e\\x00\\x7f\\xa9\\x03\\x00\\xb3J\\x0f\\x00\\x82\\x16\\x11\\x00\\xdd\\x9e\\x08\\x00O\\x99\\x0c\\x00\\xfc1\\x11\\x00\\x9a\\xc5\\r\\x00\\x0c\\xa8\\x11\\x00$\\x83\\x0f\\x00\\xd7\\x96\\x05\\x00\\x1dw\\x06\\x00\\x7f\\xd2\\n\\x00\\xf7\\x9b\\x12\\x00\\x1f\\xb0\\x12\\x00]\\xf8\\x08\\x00\\x9f\\x0c\\x10\\x00\\xb70\\n\\x00\\xa7\\x10\\t\\x00\\xac\\xc0\\x10\\x00\\xe8\\xfb\\x08\\x00;\\x8f\\x11\\x00\\xbf\\xe1\\r\\x00\\xc6\\xe3\\t\\x00\\x7fO\\x0e\\x00gh\\x0b\\x00(\\x91\\x0b\\x00\\xb3\\x1d\\r\\x00)\\x0e\\x0e\\x00\\x12\\xe1\\x11\\x00(\\x19\\x0f\\x00v\\xdc\\x08\\x00\\x8b\\x97\\r\\x00\\xf4\\xf3\\x0c\\x00\\x03>\\x12\\x00\\x9d\\x83\\x07\\x00o\\x02\\t\\x00\\xe7l\\x0f\\x00\\xd9\\xa0\\x08\\x00\\xa7\\x08\\x0c\\x00\\xe6\\x12\\x12\\x00\\x83@\\x0f\\x00\\x15?\\x07\\x00\\t\\x0b\\t\\x00\\xd9l\\n\\x00\\xf6j\\x0f\\x00\\xc6p\\r\\x00\\xf2\\xfc\\t\\x00\\xbc\\xf6\\x0f\\x00\\x85\\x96\\r\\x00\\xb4\\x8e\\x12\\x00\\xa8\\x81\\x11\\x00\\xd71\\r\\x00\\x02V\\x0e\\x00\\xabV\\x07\\x00\\xfb\\xa4\\x12\\x00\\xe6\\x92\\x12\\x00\\xd9b\\x08\\x00&\\xa9\\x07\\x00\\xb9\\x8b\\x04\\x00y.\\x12\\x00\\xbd6\\x12\\x00\\xe2\\xeb\\x0b\\x00\\xc0\\x06\\r\\x00\\xd3\\x99\\x0e\\x00\\x1e\\xb6\\x0b\\x00T\\x02\\x0c\\x00~\\x94\\x12\\x00\\xec@\\x08\\x00\\xcb\\xe3\\n\\x00\\x01l\\x12\\x00\\xb62\\x08\\x00\\x1c\\xaa\\x12\\x00=\\xe0\\x0e\\x00(\\xb0\\x12\\x00\\x1b\\xec\\x0b\\x00\\xf6\\x03\\t\\x00\\x89\\x98\\x0f\\x004\\x1e\\x0c\\x00\\x16\\x01\\x0b\\x00\\xd8\\x0c\\x07\\x00\\xdc\\x9c\\x08\\x00=\\x96\\x12\\x00\\xe1\\xc8\\x10\\x00a\\x0f\\r\\x00\\xfcn\\x12\\x00]\\xa6\\x05\\x00\\xc1\\xbd\\x04\\x00\\x98C\\r\\x00vR\\x11\\x00\\x1c\\x89\\x08\\x00\\x9f\\x8e\\x04\\x00\\xe1*\\n\\x00\\x9a\\xda\\x0f\\x00C\\xe1\\x11\\x00\\xf0\\xf5\\x04\\x00\\x0cW\\x04\\x00^V\\n\\x00\\x0b\\x8a\\x10\\x00\\xa8\\xda\\x0e\\x00\\x12 \\t\\x00\\xec\\x0e\\x11\\x00\\x8a\\x9f\\x11\\x00\\xe5d\\x12\\x00\\xf4\\xaf\\x12\\x00u\\xa4\\x10\\x00\\xe3A\\x12\\x00\\xdaH\\x08\\x009\\xc3\\x10\\x00\\x9a\\xc2\\x11\\x00`\\xf5\\n\\x00\\x93\\x16\\x12\\x00\\xc1\\xc5\\x0b\\x00\\xb5\\xa9\\x0f\\x00\\xc8\\x1e\\r\\x00H?\\x10\\x00X/\\x12\\x00\\xc2V\\x07\\x00\\x03\\x99\\x12\\x00\\xb3\\xed\\r\\x00Hr\\x0c\\x00\\xee\\\\\\x0f\\x00z,\\x07\\x00\\xc7\\x88\\t\\x00\\xe2~\\x08\\x00\\xf7\\x99\\x12\\x00d\\x06\\x0c\\x00-\\x96\\x0f\\x00\\xff\\x04\\x0c\\x00\\xa2\\x19\\x0f\\x004\\x15\\x0e\\x00Z\\xea\\t\\x00\\xa3\\xf9\\x05\\x00\\xfe\\x85\\x03\\x00\\x12d\\x0b\\x00\\xe5\\xe9\\x0e\\x00\\x9d\\\\\\t\\x00b\\xf1\\x08\\x00\\xe3W\\x07\\x00\\xad<\\x0e\\x00n\\x94\\x0b\\x00W\\xff\\x0f\\x00c\\xf2\\x10\\x00\\xc6\\xaf\\x0e\\x00\\xda\\x01\\x08\\x00\\xe4\\x94\\x10\\x00\\xe2-\\x0f\\x00\\n\\x9c\\r\\x00*\\x98\\x06\\x00\\x16X\\t\\x00\\x01\\xcd\\n\\x00\\xb0\\x8f\\x0f\\x00\\x0cz\\x03\\x00\\x0f\\xe6\\x0e\\x00\\xe3\\x8b\\x12\\x00\\xc7(\\x0f\\x00\\xcaf\\x12\\x00\\xe0\\xb7\\x10\\x00\\xa8?\\x0f\\x00=(\\x0b\\x00\\x9d%\\x0e\\x00\\x18\\x8c\\x0c\\x00\\xa5\\x83\\x07\\x00\\x1e\\xcc\\x04\\x00\\x8d\\xa0\\x0e\\x00\\xc9\\x0f\\x07\\x00\\xed)\\x06\\x00|\\xb4\\t\\x00c\\xf1\\x0f\\x00\\xba(\\x0f\\x00\\x95=\\x0c\\x00\\xe4\\xad\\n\\x00\\xbbd\\x10\\x00\\x164\\n\\x00\\xda\\xa8\\n\\x00>\\xd0\\r\\x00_=\\x0c\\x00\\xa0\\xb0\\x11\\x00\\x94p\\x08\\x00%~\\x11\\x00j-\\x06\\x00}\\x82\\x07\\x00\\xbb=\\x06\\x00c.\\n\\x00\\x9b\\x02\\x12\\x00Z\\xcb\\x0f\\x00Gl\\x05\\x00cx\\x12\\x005[\\x0c\\x00\\x11\\x9b\\t\\x00K\\xb6\\x0c\\x00Y\\x1e\\t\\x00\\xb0\\xfb\\r\\x00\\xbc\\xe5\\x0c\\x00\\xab6\\x07\\x00\\xefs\\x07\\x00\\xf0\\xe1\\r\\x00q\\x19\\x03\\x00\\xb6>\\x12\\x00m'"
      ]
     },
     "execution_count": 3,
     "metadata": {},
     "output_type": "execute_result"
    }
   ],
   "source": [
    "img"
   ]
  },
  {
   "cell_type": "code",
   "execution_count": 4,
   "metadata": {
    "collapsed": false
   },
   "outputs": [
    {
     "ename": "ValueError",
     "evalue": "buffer size must be a multiple of element size",
     "output_type": "error",
     "traceback": [
      "\u001b[1;31m---------------------------------------------------------------------------\u001b[0m",
      "\u001b[1;31mValueError\u001b[0m                                Traceback (most recent call last)",
      "\u001b[1;32m<ipython-input-4-37720866efff>\u001b[0m in \u001b[0;36m<module>\u001b[1;34m()\u001b[0m\n\u001b[1;32m----> 1\u001b[1;33m \u001b[0marr0\u001b[0m\u001b[1;33m=\u001b[0m\u001b[0mnp\u001b[0m\u001b[1;33m.\u001b[0m\u001b[0mfrombuffer\u001b[0m\u001b[1;33m(\u001b[0m\u001b[0mimg\u001b[0m\u001b[1;33m,\u001b[0m\u001b[1;34m'int16'\u001b[0m\u001b[1;33m)\u001b[0m\u001b[1;33m;\u001b[0m\u001b[1;33m\u001b[0m\u001b[0m\n\u001b[0m",
      "\u001b[1;31mValueError\u001b[0m: buffer size must be a multiple of element size"
     ]
    }
   ],
   "source": [
    "arr0=np.frombuffer(img,'int16');"
   ]
  },
  {
   "cell_type": "code",
   "execution_count": 7,
   "metadata": {
    "collapsed": false
   },
   "outputs": [
    {
     "data": {
      "text/plain": [
       "474"
      ]
     },
     "execution_count": 7,
     "metadata": {},
     "output_type": "execute_result"
    }
   ],
   "source": [
    "len(arr0)"
   ]
  },
  {
   "cell_type": "code",
   "execution_count": 10,
   "metadata": {
    "collapsed": false
   },
   "outputs": [
    {
     "data": {
      "text/plain": [
       "array([1322, 1127, 1684, 1028, 1753, 1139,  486,  157, 1138, 1006,  973,\n",
       "        488,  821, 1554, 1519,  948,  611, 2879,  646, 1898, 1248, 1488,\n",
       "         93, 1664,  299,  662, 1169,  705, 1836, 1709, 1800, 2664, 3070,\n",
       "       1019,  352, 1207,  540, 1839, 1074,  323,  617, 1182,  322,  418,\n",
       "        500, 1517,  941, 2132,  209,  492,  689,  338, 1370,  396,  153,\n",
       "       1240, 1229,  597,  954, 1453,  181, 1016, 1327, 1062,  743, 1044,\n",
       "       1081, 1386, 1707, 2616,  472,  676, 2756, 2093,  829, 1313, 1194,\n",
       "        749, 1053, 1431,  490, 1002,  409,  695,  401, 1428, 1361, 1635,\n",
       "        369, 1680, 1390, 2005, 1367,  863,  960,  113, 1059, 1255, 1516,\n",
       "       1077, 1121,  489, 2563, 1700, 1123, 1348,  711, 1819, 1999, 2773,\n",
       "       1023, 1746, 1855, 1183,  940,  920, 2009, 1954, 1252,  716, 1487,\n",
       "       2070, 1368, 1489, 1060,  346,  882, 2450, 1655,  634, 2283, 2169,\n",
       "        498, 1003, 1411,  574, 1624, 1882, 1362, 2671, 2587, 1438, 1511,\n",
       "       1014,  777,  862, 1294, 2077,  736,  782,  263,  866, 1729,  599,\n",
       "       2538,  421, 2771, 3300, 1065, 1949, 2384, 1178, 2078,  313, 1905,\n",
       "       1072, 2564, 1929, 1687, 2655,  492,  409,  774, 1151, 1124, 1899,\n",
       "       1832, 2378,  464, 2121, 2809, 1066, 1053, 1853,  886, 1880, 2365,\n",
       "       1098, 1911, 1797, 2947, 1160, 3547,  955,  477, 2313, 2506, 1240,\n",
       "        807, 1352,  292, 1569, 1649, 2771, 2312, 2441, 2667, 1200,  868,\n",
       "        420, 1385,  116, 1064,  560,  489, 1964, 2123, 1840, 2134,  718,\n",
       "       1845, 1203, 2350, 1213,  802,  543,  313, 1194, 2871, 3452, 1778,\n",
       "        454, 1587, 2180, 1197, 2767,  927, 2691, 1152, 1192, 2695,  848,\n",
       "       3264, 1634, 2297, 1944, 3133, 1142, 3143, 1616, 1671,  430, 2863,\n",
       "       2320, 1221, 1141, 1653, 1775,  283, 2156, 2604,  729,  534, 2626,\n",
       "       1023, 2978, 5702,  444,  253,  988, 2191,  782,  952, 1250, 2209,\n",
       "        934, 1000, 1300, 1755,  825, 1360, 4437, 1400, 2424, 1863, 1939,\n",
       "       2045,  224,  616, 2452,  842, 1385, 1410, 2052, 2113, 1017, 3637,\n",
       "        836, 1420, 2924,  394, 1925,  365,  921,  602, 2323, 1046, 2449,\n",
       "       2375, 1591, 1914, 1948, 1647,  681,  693,  349, 2023,  474, 1115,\n",
       "        990, 1267,  413, 1951, 1070,  831,  652,  885, 1500, 1619,  852,\n",
       "        221, 2198, 1250, 1172, 1143, 1352,  878, 1171, 2258, 3071, 1376,\n",
       "        821, 1661, 1127, 1447, 2515, 2528, 1642, 1957, 2697, 1692, 1821,\n",
       "        866, 1727, 1380, 1263,  441, 3206, 2380, 1603, 1247, 3028, 2328,\n",
       "       2086, 2827,  317, 3418,  455, 2646, 1144, 1550, 1047, 1876, 1301,\n",
       "       2106,  704,  344,  878, 1526, 1699, 1336,  689, 2355, 2661, 2108,\n",
       "       2538, 1854, 2095, 1866, 2853,  996, 1995, 2275,  609,  726, 1549,\n",
       "       1962, 2181,  966,  382, 2206, 1311,  694,  498, 1899, 2193, 1556,\n",
       "       1537, 2796,  799, 3594, 2035, 3249, 2025,  434, 2399, 2048, 1160,\n",
       "       1797, 2079, 1702, 2483, 1716, 1427, 1855, 1410,  839, 1902, 2588,\n",
       "        252, 1431, 1390, 2350, 2705,  722,  511, 1155, 1114, 2128, 1374,\n",
       "        474, 1631, 1579,  968, 1257,  856, 1824,  797, 1405, 2307, 1059,\n",
       "       1533, 1366, 1539, 3693,  632, 1275, 3300,  397,  936, 1274, 2227,\n",
       "       1073, 1277, 3395, 1149,  759,  943,  920,  542, 3783, 1589,  724,\n",
       "       2443], dtype=int16)"
      ]
     },
     "execution_count": 10,
     "metadata": {},
     "output_type": "execute_result"
    }
   ],
   "source": [
    "arr0"
   ]
  },
  {
   "cell_type": "code",
   "execution_count": null,
   "metadata": {
    "collapsed": true
   },
   "outputs": [],
   "source": []
  }
 ],
 "metadata": {
  "anaconda-cloud": {},
  "kernelspec": {
   "display_name": "Python [conda root]",
   "language": "python",
   "name": "conda-root-py"
  },
  "language_info": {
   "codemirror_mode": {
    "name": "ipython",
    "version": 2
   },
   "file_extension": ".py",
   "mimetype": "text/x-python",
   "name": "python",
   "nbconvert_exporter": "python",
   "pygments_lexer": "ipython2",
   "version": "2.7.12"
  }
 },
 "nbformat": 4,
 "nbformat_minor": 1
}
