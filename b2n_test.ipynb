{
 "cells": [
  {
   "cell_type": "code",
   "execution_count": 3,
   "metadata": {
    "collapsed": true
   },
   "outputs": [],
   "source": [
    "import sys\n",
    "import os\n",
    "sys.path.append(\"/media/sf_host-scripts/b2n\")   #('C:/Users/cdelettre/Documents/GitHub/b2n')   #\n",
    "import bruker2nifti as b2n\n",
    "import bruker2gtab as b2gtab"
   ]
  },
  {
   "cell_type": "code",
   "execution_count": 8,
   "metadata": {
    "collapsed": true
   },
   "outputs": [],
   "source": [
    "datapath = '/media/sf_host-F_DRIVE/'\n",
    "outputpath = '/media/sf_host-data/'\n",
    "subjs = ['P0_F02_11012013',\n",
    "         'P2_F25_31012015/7',\n",
    "         'P2_F28_03042015/8',\n",
    "         'P4_F06_05042013/10',\n",
    "         'P4_F07_12042013/7',\n",
    "         'P4_F08_25042013b/11',\n",
    "         'P8_F10_12072013/7',\n",
    "         'P16_F20_25072014b/9',\n",
    "         'P16_F21_01082014/7',\n",
    "         'P32_F16_23052014/8',\n",
    "         'P32_F17_06062014/7',\n",
    "         'P32_F19_18072014/8',\n",
    "         'P64_F01_31102012/10',\n",
    "         'P64_F03_21022013/9',\n",
    "         'P64_F04_01032013/8',\n",
    "         'P64_F05_15032013',\n",
    "         'P64_F22_29082014/7',\n",
    "         'P64_F22_29082014/14'\n",
    "        ]\n",
    "subname = ['F02_P0',\n",
    "          'F25_P2',\n",
    "          'F28_P2',\n",
    "          'F06_P4',\n",
    "          'F07_P4',\n",
    "          'F08_P4',\n",
    "          'F10_P8',\n",
    "          'F20_P16',\n",
    "          'F21_P16',\n",
    "          'F16_P32',\n",
    "          'F17_P32',\n",
    "          'F19_P32',\n",
    "          'F01_Adult',\n",
    "          'F03_Adult',\n",
    "          'F04_Adult',\n",
    "          'F05_Adult',\n",
    "          'F22_Adult_1',\n",
    "          'F22_Adult_2']"
   ]
  },
  {
   "cell_type": "code",
   "execution_count": 17,
   "metadata": {
    "collapsed": false
   },
   "outputs": [
    {
     "ename": "MemoryError",
     "evalue": "",
     "output_type": "error",
     "traceback": [
      "\u001b[0;31m---------------------------------------------------------------------------\u001b[0m",
      "\u001b[0;31mMemoryError\u001b[0m                               Traceback (most recent call last)",
      "\u001b[0;32m<ipython-input-17-1107f9cb45d2>\u001b[0m in \u001b[0;36m<module>\u001b[0;34m()\u001b[0m\n\u001b[1;32m      9\u001b[0m     \u001b[0mos\u001b[0m\u001b[0;34m.\u001b[0m\u001b[0mmakedirs\u001b[0m\u001b[0;34m(\u001b[0m\u001b[0moutp\u001b[0m\u001b[0;34m)\u001b[0m\u001b[0;34m\u001b[0m\u001b[0m\n\u001b[1;32m     10\u001b[0m \u001b[0;34m\u001b[0m\u001b[0m\n\u001b[0;32m---> 11\u001b[0;31m \u001b[0mb2n\u001b[0m\u001b[0;34m.\u001b[0m\u001b[0mconvertBrukerToNifti1\u001b[0m\u001b[0;34m(\u001b[0m\u001b[0minp\u001b[0m\u001b[0;34m,\u001b[0m\u001b[0moutp\u001b[0m\u001b[0;34m+\u001b[0m\u001b[0;34m'/'\u001b[0m\u001b[0;34m+\u001b[0m\u001b[0msubj\u001b[0m\u001b[0;34m+\u001b[0m\u001b[0;34m'_b2n.nii'\u001b[0m\u001b[0;34m)\u001b[0m\u001b[0;34m\u001b[0m\u001b[0m\n\u001b[0m\u001b[1;32m     12\u001b[0m \u001b[0;34m\u001b[0m\u001b[0m\n\u001b[1;32m     13\u001b[0m \u001b[0mb2gtab\u001b[0m\u001b[0;34m.\u001b[0m\u001b[0mgetBvals\u001b[0m\u001b[0;34m(\u001b[0m\u001b[0minp\u001b[0m\u001b[0;34m,\u001b[0m\u001b[0moutp\u001b[0m\u001b[0;34m)\u001b[0m\u001b[0;34m\u001b[0m\u001b[0m\n",
      "\u001b[0;32m/media/sf_host-scripts/b2n/bruker2nifti.py\u001b[0m in \u001b[0;36mconvertBrukerToNifti1\u001b[0;34m(input_dir, output_path)\u001b[0m\n\u001b[1;32m     94\u001b[0m     \u001b[0;31m# convert binary data to array\u001b[0m\u001b[0;34m\u001b[0m\u001b[0;34m\u001b[0m\u001b[0m\n\u001b[1;32m     95\u001b[0m     \u001b[0marr0\u001b[0m\u001b[0;34m=\u001b[0m\u001b[0mnp\u001b[0m\u001b[0;34m.\u001b[0m\u001b[0mfrombuffer\u001b[0m\u001b[0;34m(\u001b[0m\u001b[0mimg\u001b[0m\u001b[0;34m,\u001b[0m\u001b[0mdata_type\u001b[0m\u001b[0;34m)\u001b[0m\u001b[0;34m;\u001b[0m\u001b[0;34m\u001b[0m\u001b[0m\n\u001b[0;32m---> 96\u001b[0;31m     \u001b[0marr\u001b[0m\u001b[0;34m=\u001b[0m\u001b[0marr0\u001b[0m\u001b[0;34m.\u001b[0m\u001b[0mreshape\u001b[0m\u001b[0;34m(\u001b[0m\u001b[0mdimy\u001b[0m\u001b[0;34m,\u001b[0m\u001b[0mdimx\u001b[0m\u001b[0;34m,\u001b[0m\u001b[0mdimz\u001b[0m\u001b[0;34m,\u001b[0m\u001b[0mnvols\u001b[0m\u001b[0;34m,\u001b[0m\u001b[0morder\u001b[0m\u001b[0;34m=\u001b[0m\u001b[0;34m'F'\u001b[0m\u001b[0;34m)\u001b[0m\u001b[0;34m.\u001b[0m\u001b[0mastype\u001b[0m\u001b[0;34m(\u001b[0m\u001b[0mfloat\u001b[0m\u001b[0;34m)\u001b[0m\u001b[0;34m\u001b[0m\u001b[0m\n\u001b[0m\u001b[1;32m     97\u001b[0m     \u001b[0;31m#arr=np.swapaxes(arr,1,2)\u001b[0m\u001b[0;34m\u001b[0m\u001b[0;34m\u001b[0m\u001b[0m\n\u001b[1;32m     98\u001b[0m     \u001b[0;31m#arr=np.flip(arr,0)\u001b[0m\u001b[0;34m\u001b[0m\u001b[0;34m\u001b[0m\u001b[0m\n",
      "\u001b[0;31mMemoryError\u001b[0m: "
     ]
    }
   ],
   "source": [
    "#for i in 17:#range(len(subjs)):\n",
    "i=17\n",
    "subj = subname[i]\n",
    "\n",
    "inp = datapath+'FerretData/dti/'+subjs[i]\n",
    "outp = outputpath+'Ferret_b2n_edti/'+subj\n",
    "\n",
    "if not os.path.exists(outp):\n",
    "    os.makedirs(outp)\n",
    "\n",
    "b2n.convertBrukerToNifti1(inp,outp+'/'+subj+'_b2n.nii')\n",
    "\n",
    "b2gtab.getBvals(inp,outp)\n",
    "b2gtab.getBvecs(inp,outp)"
   ]
  },
  {
   "cell_type": "code",
   "execution_count": null,
   "metadata": {
    "collapsed": true
   },
   "outputs": [],
   "source": []
  }
 ],
 "metadata": {
  "anaconda-cloud": {},
  "kernelspec": {
   "display_name": "Python [default]",
   "language": "python",
   "name": "python2"
  },
  "language_info": {
   "codemirror_mode": {
    "name": "ipython",
    "version": 2
   },
   "file_extension": ".py",
   "mimetype": "text/x-python",
   "name": "python",
   "nbconvert_exporter": "python",
   "pygments_lexer": "ipython2",
   "version": "2.7.12"
  }
 },
 "nbformat": 4,
 "nbformat_minor": 1
}
