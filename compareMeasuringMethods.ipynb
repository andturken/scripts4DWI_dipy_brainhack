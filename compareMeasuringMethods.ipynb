{
 "cells": [
  {
   "cell_type": "code",
   "execution_count": 2,
   "metadata": {
    "collapsed": true
   },
   "outputs": [],
   "source": [
    "import numpy as np"
   ]
  },
  {
   "cell_type": "code",
   "execution_count": 1,
   "metadata": {
    "collapsed": true
   },
   "outputs": [],
   "source": [
    "# Open mesh in ply format\n",
    "def open_ply(filepath):\n",
    "    import numpy\n",
    "    f=open(filepath,'r');\n",
    "    i=0;\n",
    "    ip=0;\n",
    "    it=0;\n",
    "    np=0;\n",
    "    nt=0;\n",
    "    for str in f:\n",
    "        i+=1;\n",
    "        arr=str.split(\" \");\n",
    "        if(arr[0]==\"element\" and arr[1]==\"vertex\"):\n",
    "            np=int(arr[2]);\n",
    "            p=numpy.zeros((np,3));\n",
    "        elif(arr[0]==\"element\" and arr[1]==\"face\"):\n",
    "            nt=int(arr[2]);\n",
    "            t=numpy.zeros((nt,3));\n",
    "        elif(i>=11 and i<11+np):\n",
    "            p[ip,0]=float(arr[0]);\n",
    "            p[ip,1]=float(arr[1]);\n",
    "            p[ip,2]=float(arr[2]);\n",
    "            ip+=1;\n",
    "        elif(i>=11+np and i<11+np+nt):\n",
    "            t[it,0]=int(arr[1]);\n",
    "            t[it,1]=int(arr[2]);\n",
    "            t[it,2]=int(arr[3]);\n",
    "            it+=1;\n",
    "    mesh={};\n",
    "    mesh[\"np\"]=np;\n",
    "    mesh[\"nt\"]=nt;\n",
    "    mesh[\"p\"]=p;\n",
    "    mesh[\"t\"]=t;\n",
    "    return mesh;"
   ]
  },
  {
   "cell_type": "code",
   "execution_count": 9,
   "metadata": {
    "collapsed": true
   },
   "outputs": [],
   "source": [
    "# Normal of triangle a,b,c\n",
    "def normal(a,b,c):\n",
    "    v=np.cross(b-a,c-a)\n",
    "    n=v/np.linalg.norm(v)\n",
    "    return n;\n",
    "\n",
    "# Compute the normals for each vertex in mesh\n",
    "def normals(mesh):\n",
    "    npt=mesh[\"np\"];\n",
    "    nt=mesh[\"nt\"];\n",
    "    pt=mesh[\"p\"];\n",
    "    t=mesh[\"t\"];\n",
    "    n=np.zeros((npt,3));\n",
    "    for i in range(0,nt):\n",
    "        nn=normal(pt[t[i,0]],pt[t[i,1]],pt[t[i,2]]);\n",
    "        n[t[i,0]]=np.add(n[t[i,0]],nn);\n",
    "        n[t[i,1]]=np.add(n[t[i,1]],nn);\n",
    "        n[t[i,2]]=np.add(n[t[i,2]],nn);\n",
    "    for i in range(0,npt):\n",
    "        n[i]=n[i]/np.linalg.norm(n[i]);\n",
    "    return n;"
   ]
  },
  {
   "cell_type": "code",
   "execution_count": null,
   "metadata": {
    "collapsed": true
   },
   "outputs": [],
   "source": []
  },
  {
   "cell_type": "code",
   "execution_count": 3,
   "metadata": {
    "collapsed": true
   },
   "outputs": [],
   "source": [
    "# read .ply mesh\n",
    "pathDesktop = 'C:/Users/cdelettre/Desktop/'\n",
    "\n",
    "subj = 'P8_F10'\n",
    "path = 'C:/Users/cdelettre/Desktop/Ferrets/'+subj+'/'\n",
    "fmesh = path+subj+'_mesh.ply'\n",
    "mesh = open_ply(fmesh)\n",
    "npt=mesh[\"np\"];\n",
    "nt=mesh[\"nt\"];\n",
    "pt=mesh[\"p\"];\n",
    "t=mesh[\"t\"];"
   ]
  },
  {
   "cell_type": "code",
   "execution_count": 4,
   "metadata": {
    "collapsed": true
   },
   "outputs": [],
   "source": [
    "# read the set of endpoints\n",
    "\n",
    "fendpoints = path+'P8_F10_endpoints_adjusted.txt'\n",
    "endpoints = np.loadtxt(fendpoints)"
   ]
  },
  {
   "cell_type": "code",
   "execution_count": 23,
   "metadata": {
    "collapsed": false
   },
   "outputs": [],
   "source": [
    "i = 100\n",
    "point = pt[i]\n",
    "ep = endpoints[0]"
   ]
  },
  {
   "cell_type": "code",
   "execution_count": 24,
   "metadata": {
    "collapsed": false
   },
   "outputs": [
    {
     "name": "stdout",
     "output_type": "stream",
     "text": [
      "[ 5.38451  7.39264  1.32017]\n",
      "[ 12.60884   13.26452    3.235695]\n"
     ]
    }
   ],
   "source": [
    "print point\n",
    "print ep"
   ]
  },
  {
   "cell_type": "code",
   "execution_count": 10,
   "metadata": {
    "collapsed": false
   },
   "outputs": [
    {
     "name": "stderr",
     "output_type": "stream",
     "text": [
      "C:\\Users\\cdelettre\\Anaconda2\\lib\\site-packages\\ipykernel\\__main__.py:15: VisibleDeprecationWarning: using a non-integer number instead of an integer will result in an error in the future\n",
      "C:\\Users\\cdelettre\\Anaconda2\\lib\\site-packages\\ipykernel\\__main__.py:16: VisibleDeprecationWarning: using a non-integer number instead of an integer will result in an error in the future\n",
      "C:\\Users\\cdelettre\\Anaconda2\\lib\\site-packages\\ipykernel\\__main__.py:17: VisibleDeprecationWarning: using a non-integer number instead of an integer will result in an error in the future\n",
      "C:\\Users\\cdelettre\\Anaconda2\\lib\\site-packages\\ipykernel\\__main__.py:18: VisibleDeprecationWarning: using a non-integer number instead of an integer will result in an error in the future\n"
     ]
    }
   ],
   "source": [
    "n = normals(mesh)"
   ]
  },
  {
   "cell_type": "code",
   "execution_count": null,
   "metadata": {
    "collapsed": true
   },
   "outputs": [],
   "source": []
  },
  {
   "cell_type": "code",
   "execution_count": 25,
   "metadata": {
    "collapsed": false
   },
   "outputs": [
    {
     "name": "stdout",
     "output_type": "stream",
     "text": [
      "0.774083134754\n"
     ]
    }
   ],
   "source": [
    "v = ep - point #distance to the normal of the triangle\n",
    "d1 = np.absolute(np.dot(v, n[i]))\n",
    "print d1"
   ]
  },
  {
   "cell_type": "code",
   "execution_count": 26,
   "metadata": {
    "collapsed": false
   },
   "outputs": [
    {
     "name": "stdout",
     "output_type": "stream",
     "text": [
      "9.50469119482\n"
     ]
    }
   ],
   "source": [
    "import scipy.spatial.distance as spdist\n",
    "d2 = spdist.euclidean(ep,point) #euclidean distance point/endpoint\n",
    "print d2"
   ]
  },
  {
   "cell_type": "code",
   "execution_count": 27,
   "metadata": {
    "collapsed": false
   },
   "outputs": [
    {
     "name": "stdout",
     "output_type": "stream",
     "text": [
      "9.47311722768\n"
     ]
    }
   ],
   "source": [
    "v = ep - point\n",
    "d3 = np.linalg.norm(np.cross(v,n[i]))/np.linalg.norm(n[i])\n",
    "print d3"
   ]
  },
  {
   "cell_type": "code",
   "execution_count": 28,
   "metadata": {
    "collapsed": false
   },
   "outputs": [
    {
     "name": "stdout",
     "output_type": "stream",
     "text": [
      "-0.774083134754\n"
     ]
    }
   ],
   "source": [
    "v = ep - point\n",
    "d4 = np.dot(v,n[i])/np.power(np.linalg.norm(n[i]),2)\n",
    "print d4"
   ]
  },
  {
   "cell_type": "code",
   "execution_count": null,
   "metadata": {
    "collapsed": true
   },
   "outputs": [],
   "source": []
  }
 ],
 "metadata": {
  "kernelspec": {
   "display_name": "Python [conda root]",
   "language": "python",
   "name": "conda-root-py"
  },
  "language_info": {
   "codemirror_mode": {
    "name": "ipython",
    "version": 2
   },
   "file_extension": ".py",
   "mimetype": "text/x-python",
   "name": "python",
   "nbconvert_exporter": "python",
   "pygments_lexer": "ipython2",
   "version": "2.7.12"
  }
 },
 "nbformat": 4,
 "nbformat_minor": 1
}
