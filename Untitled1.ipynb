{
 "cells": [
  {
   "cell_type": "code",
   "execution_count": 1,
   "metadata": {
    "collapsed": false
   },
   "outputs": [],
   "source": [
    "import postprocessing4ExploreDTIdata as p\n",
    "from common import save_trk_old_style"
   ]
  },
  {
   "cell_type": "code",
   "execution_count": 2,
   "metadata": {
    "collapsed": true
   },
   "outputs": [],
   "source": [
    "dname = '/Volumes/Samsung_T1/dti/Dipy/P64_F01/'\n",
    "ftrk = dname + 'tractogram_80.trk'\n",
    "ffa = dname + 'tensor_fa.nii.gz'\n",
    "fdwi = dname + '2dseq.src.gz.nii.gz'"
   ]
  },
  {
   "cell_type": "code",
   "execution_count": 3,
   "metadata": {
    "collapsed": false
   },
   "outputs": [],
   "source": [
    "fa,affine,data,streamlines = p.importData(ftrk,ffa,fdwi)"
   ]
  },
  {
   "cell_type": "code",
   "execution_count": 4,
   "metadata": {
    "collapsed": false
   },
   "outputs": [
    {
     "name": "stdout",
     "output_type": "stream",
     "text": [
      "Nb. streamlines:\n",
      "358935\n",
      "Min length:\n",
      "0.239998\n",
      "Max length:\n",
      "36.96\n",
      "('Nb. clusters:', 9503)\n",
      "('Nb. small clusters:', 3733)\n",
      "Nb. streamlines, Nb. Bundles, Min length, Max length\n",
      "358935 9503 0.239998 36.96\n"
     ]
    }
   ],
   "source": [
    "lengths = p.getLengths(streamlines)\n",
    "clusters = p.computeQuickBundles(streamlines,1.)\n",
    "p.getData4Analyses(streamlines,clusters,lengths)"
   ]
  },
  {
   "cell_type": "code",
   "execution_count": 5,
   "metadata": {
    "collapsed": false
   },
   "outputs": [
    {
     "name": "stdout",
     "output_type": "stream",
     "text": [
      "Nb. streamlines from small bundles: \n",
      "10542\n",
      "Nb. streamlines before filtering\n",
      "358935\n",
      "Nb. streamlines after filtering\n",
      "348393\n"
     ]
    }
   ],
   "source": [
    "new_streamlines = p.filterSmallBundles(streamlines,clusters,10)\n",
    "fnew_tractogram = dname + 'filteredtractogram_80.trk'\n",
    "save_trk_old_style(fnew_tractogram, new_streamlines, affine, fa.shape)"
   ]
  },
  {
   "cell_type": "code",
   "execution_count": 7,
   "metadata": {
    "collapsed": false
   },
   "outputs": [
    {
     "name": "stdout",
     "output_type": "stream",
     "text": [
      "Nb. streamlines:\n",
      "281495\n",
      "Min length:\n",
      "0\n",
      "Max length:\n",
      "9.36\n",
      "('Nb. clusters:', 435)\n",
      "('Nb. small clusters:', 3)\n",
      "Nb. streamlines, Nb. Bundles, Min length, Max length\n",
      "281495 435 0 9.36\n"
     ]
    }
   ],
   "source": [
    "new_lengths = p.getLengths(new_streamlines)\n",
    "new_clusters = p.computeQuickBundles(new_streamlines,1.)\n",
    "p.getData4Analyses(new_streamlines,new_clusters,new_lengths)"
   ]
  },
  {
   "cell_type": "code",
   "execution_count": 8,
   "metadata": {
    "collapsed": false
   },
   "outputs": [
    {
     "name": "stdout",
     "output_type": "stream",
     "text": [
      "Nb. streamlines:\n",
      "281495\n",
      "Min length:\n",
      "0\n",
      "Max length:\n",
      "9.36\n",
      "Nb. new streamlines:\n",
      "21643\n",
      "Nb. streamlines:\n",
      "21643\n",
      "Min length:\n",
      "0.599999\n",
      "Max length:\n",
      "9.36\n",
      "('Nb. clusters:', 297)\n",
      "('Nb. small clusters:', 13)\n",
      "Nb. streamlines, Nb. Bundles, Min length, Max length\n",
      "21643 297 0.599999 9.36\n"
     ]
    }
   ],
   "source": [
    "new2_streamlines = p.filterLength(new_streamlines, .5)\n",
    "\n",
    "fnew2_tractogram = dname + 'fullfilteredtractogram.trk'\n",
    "save_trk_old_style(fnew2_tractogram, new2_streamlines, affine, fa.shape)\n",
    "\n",
    "new2_lengths = p.getLengths(new2_streamlines)\n",
    "new2_clusters = p.computeQuickBundles(new2_streamlines,1.)\n",
    "\n",
    "p.getData4Analyses(new2_streamlines,new2_clusters,new2_lengths)"
   ]
  },
  {
   "cell_type": "code",
   "execution_count": null,
   "metadata": {
    "collapsed": true
   },
   "outputs": [],
   "source": []
  }
 ],
 "metadata": {
  "anaconda-cloud": {},
  "kernelspec": {
   "display_name": "Python [default]",
   "language": "python",
   "name": "python2"
  },
  "language_info": {
   "codemirror_mode": {
    "name": "ipython",
    "version": 2
   },
   "file_extension": ".py",
   "mimetype": "text/x-python",
   "name": "python",
   "nbconvert_exporter": "python",
   "pygments_lexer": "ipython2",
   "version": "2.7.12"
  }
 },
 "nbformat": 4,
 "nbformat_minor": 0
}
