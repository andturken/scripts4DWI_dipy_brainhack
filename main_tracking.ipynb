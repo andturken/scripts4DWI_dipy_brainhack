{
 "cells": [
  {
   "cell_type": "code",
   "execution_count": 4,
   "metadata": {
    "collapsed": false
   },
   "outputs": [],
   "source": [
    "from tracking_function import track\n",
    "from tracking_function import filterlength"
   ]
  },
  {
   "cell_type": "code",
   "execution_count": 5,
   "metadata": {
    "collapsed": true
   },
   "outputs": [],
   "source": [
    "dname = '/Volumes/Samsung_T1/dti/Dipy/P64_F22/'\n",
    "\n",
    "fdwi = dname + '2dseq.src.gz.nii.gz' #nii from 2dseq in dsi_studio\n",
    "\n",
    "fbval = dname + 'bvals' #from dsi_studio\n",
    "fbvec = dname + 'bvecs'\n",
    "\n",
    "fmask = dname + 'mask_extern.nii' #None if wish to get an automated mask from dwi data"
   ]
  },
  {
   "cell_type": "code",
   "execution_count": 7,
   "metadata": {
    "collapsed": false
   },
   "outputs": [
    {
     "name": "stderr",
     "output_type": "stream",
     "text": [
      "/Users/ghfc/anaconda/lib/python2.7/site-packages/skimage/filter/__init__.py:6: skimage_deprecation: The `skimage.filter` module has been renamed to `skimage.filters`.  This placeholder module will be removed in v0.13.\n",
      "  warn(skimage_deprecation('The `skimage.filter` module has been renamed '\n",
      "/Users/ghfc/anaconda/lib/python2.7/site-packages/dipy/viz/colormap.py:226: RuntimeWarning: invalid value encountered in divide\n",
      "  orient = np.abs(orient / np.linalg.norm(orient))\n"
     ]
    }
   ],
   "source": [
    "track(dname, fdwi, fbval, fbvec, fmask=None, seed_density = 2, show=True)"
   ]
  },
  {
   "cell_type": "code",
   "execution_count": 8,
   "metadata": {
    "collapsed": false
   },
   "outputs": [
    {
     "name": "stdout",
     "output_type": "stream",
     "text": [
      "820632\n",
      "267737\n",
      "19.0\n",
      "0\n",
      "19.0\n",
      "3.0\n"
     ]
    }
   ],
   "source": [
    "ffa = dname + 'tensor_fa.nii.gz'\n",
    "ftrk = dname + 'tractogram.trk'\n",
    "\n",
    "filterlength(dname, fdwi, ffa, ftrk, thr_length=3., show=True)"
   ]
  },
  {
   "cell_type": "code",
   "execution_count": null,
   "metadata": {
    "collapsed": true
   },
   "outputs": [],
   "source": []
  }
 ],
 "metadata": {
  "kernelspec": {
   "display_name": "Python 2",
   "language": "python",
   "name": "python2"
  },
  "language_info": {
   "codemirror_mode": {
    "name": "ipython",
    "version": 2
   },
   "file_extension": ".py",
   "mimetype": "text/x-python",
   "name": "python",
   "nbconvert_exporter": "python",
   "pygments_lexer": "ipython2",
   "version": "2.7.11"
  }
 },
 "nbformat": 4,
 "nbformat_minor": 0
}
