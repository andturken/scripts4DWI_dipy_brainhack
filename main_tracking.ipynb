{
 "cells": [
  {
   "cell_type": "code",
   "execution_count": 1,
   "metadata": {
    "collapsed": false
   },
   "outputs": [],
   "source": [
    "from tracking_function import track\n",
    "from tracking_function import filterlength"
   ]
  },
  {
   "cell_type": "code",
   "execution_count": 2,
   "metadata": {
    "collapsed": true
   },
   "outputs": [],
   "source": [
    "dname = 'E:/Celine/Ferret_b2n/P2_F25/'\n",
    "\n",
    "fdwi = dname + 'F25_P2_rot.nii.gz' #nii from 2dseq in dsi_studio\n",
    "\n",
    "fbval = dname + 'bvals' #from dsi_studio\n",
    "fbvec = dname + 'bvecs'\n",
    "\n",
    "#fmask = dname + 'mask_extern.nii' #None if wish to get an automated mask from dwi data"
   ]
  },
  {
   "cell_type": "code",
   "execution_count": 3,
   "metadata": {
    "collapsed": false
   },
   "outputs": [
    {
     "name": "stderr",
     "output_type": "stream",
     "text": [
      "C:\\Users\\cdelettre\\Anaconda2\\lib\\site-packages\\skimage\\filter\\__init__.py:6: skimage_deprecation: The `skimage.filter` module has been renamed to `skimage.filters`.  This placeholder module will be removed in v0.13.\n",
      "  warn(skimage_deprecation('The `skimage.filter` module has been renamed '\n",
      "C:\\Users\\cdelettre\\Anaconda2\\lib\\site-packages\\dipy\\viz\\colormap.py:226: RuntimeWarning: invalid value encountered in divide\n",
      "  orient = np.abs(orient / np.linalg.norm(orient))\n",
      "C:\\Users\\cdelettre\\Anaconda2\\lib\\site-packages\\dipy\\viz\\colormap.py:226: RuntimeWarning: invalid value encountered in absolute\n",
      "  orient = np.abs(orient / np.linalg.norm(orient))\n"
     ]
    }
   ],
   "source": [
    "track(dname, fdwi, fbval, fbvec, fmask=None, seed_density = 2, show=True)"
   ]
  },
  {
   "cell_type": "code",
   "execution_count": 8,
   "metadata": {
    "collapsed": false
   },
   "outputs": [
    {
     "name": "stdout",
     "output_type": "stream",
     "text": [
      "820632\n",
      "267737\n",
      "19.0\n",
      "0\n",
      "19.0\n",
      "3.0\n"
     ]
    }
   ],
   "source": [
    "ffa = dname + 'tensor_fa.nii.gz'\n",
    "ftrk = dname + 'tractogram.trk'\n",
    "\n",
    "filterlength(dname, fdwi, ffa, ftrk, thr_length=3., show=True)"
   ]
  },
  {
   "cell_type": "code",
   "execution_count": null,
   "metadata": {
    "collapsed": true
   },
   "outputs": [],
   "source": []
  }
 ],
 "metadata": {
  "kernelspec": {
   "display_name": "Python [default]",
   "language": "python",
   "name": "python2"
  },
  "language_info": {
   "codemirror_mode": {
    "name": "ipython",
    "version": 2
   },
   "file_extension": ".py",
   "mimetype": "text/x-python",
   "name": "python",
   "nbconvert_exporter": "python",
   "pygments_lexer": "ipython2",
   "version": "2.7.12"
  }
 },
 "nbformat": 4,
 "nbformat_minor": 0
}
