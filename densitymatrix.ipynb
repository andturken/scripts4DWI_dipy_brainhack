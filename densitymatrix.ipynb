{
 "cells": [
  {
   "cell_type": "code",
   "execution_count": 1,
   "metadata": {
    "collapsed": false,
    "scrolled": true
   },
   "outputs": [
    {
     "name": "stdout",
     "output_type": "stream",
     "text": [
      "Using matplotlib backend: MacOSX\n",
      "Populating the interactive namespace from numpy and matplotlib\n",
      "Using matplotlib backend: MacOSX\n"
     ]
    }
   ],
   "source": [
    "%pylab\n",
    "%matplotlib"
   ]
  },
  {
   "cell_type": "code",
   "execution_count": 2,
   "metadata": {
    "collapsed": false
   },
   "outputs": [],
   "source": [
    "import nibabel as nib\n",
    "import numpy as np\n",
    "from dipy.tracking import utils\n",
    "from dipy.tracking.eudx import EuDX\n",
    "from dipy.reconst import peaks, shm\n",
    "\n",
    "from dipy.io import read_bvals_bvecs\n",
    "from dipy.core.gradients import gradient_table\n",
    "\n",
    "import matplotlib.pyplot as plt\n",
    "\n",
    "from dipy.segment.clustering import QuickBundles\n",
    "from dipy.viz import fvtk"
   ]
  },
  {
   "cell_type": "markdown",
   "metadata": {},
   "source": [
    "paths"
   ]
  },
  {
   "cell_type": "code",
   "execution_count": 3,
   "metadata": {
    "collapsed": true
   },
   "outputs": [],
   "source": [
    "dname = '/Volumes/Samsung_T1/dti/Dipy/P2_F25/'\n",
    "ftrk = dname + 'filteredtractogram.trk'\n",
    "ffa = dname + 'tensor_fa.nii.gz'\n",
    "fdwi = dname + '2dseq.src.gz.nii.gz'\n",
    "\n",
    "#fbval = dname + 'bvals'\n",
    "#fbvec = dname + 'bvecs'\n",
    "\n",
    "#fvtk = dname + 'adult-F01.vtk'\n",
    "show = False"
   ]
  },
  {
   "cell_type": "markdown",
   "metadata": {},
   "source": [
    "load FA and DWI data"
   ]
  },
  {
   "cell_type": "code",
   "execution_count": 4,
   "metadata": {
    "collapsed": false
   },
   "outputs": [],
   "source": [
    "fa_img = nib.load(ffa)\n",
    "fa = fa_img.get_data()\n",
    "affine = fa_img.get_affine()\n",
    "\n",
    "img = nib.load(fdwi)\n",
    "data = img.get_data()"
   ]
  },
  {
   "cell_type": "markdown",
   "metadata": {},
   "source": [
    "load streamlines and render if show=True"
   ]
  },
  {
   "cell_type": "code",
   "execution_count": 5,
   "metadata": {
    "collapsed": false
   },
   "outputs": [],
   "source": [
    "from nibabel import trackvis\n",
    "streams, hdr = trackvis.read(ftrk)\n",
    "streamlines = [s[0] for s in streams]\n",
    "\n",
    "#from dipy.tracking.streamline import transform_streamlines\n",
    "#streamlines2 = transform_streamlines(streamlines,affine)\n",
    "\n",
    "if show:\n",
    "    from dipy.viz import actor, window\n",
    "    ren = window.Renderer()\n",
    "    ren.add(actor.line(streamlines[:1000]))\n",
    "    window.show(ren)\n"
   ]
  },
  {
   "cell_type": "markdown",
   "metadata": {},
   "source": [
    "compute density map"
   ]
  },
  {
   "cell_type": "code",
   "execution_count": 6,
   "metadata": {
    "collapsed": false
   },
   "outputs": [],
   "source": [
    "dm = utils.density_map(streamlines, fa.shape, affine=affine)"
   ]
  },
  {
   "cell_type": "markdown",
   "metadata": {},
   "source": [
    "save density map in nifti"
   ]
  },
  {
   "cell_type": "code",
   "execution_count": 7,
   "metadata": {
    "collapsed": true
   },
   "outputs": [],
   "source": [
    "dm_img = nib.Nifti1Image(dm.astype(\"int16\"), affine)\n",
    "dm_img.to_filename(\"fa-dm.nii.gz\")"
   ]
  },
  {
   "cell_type": "markdown",
   "metadata": {},
   "source": [
    "save pictures of the density map"
   ]
  },
  {
   "cell_type": "code",
   "execution_count": 9,
   "metadata": {
    "collapsed": false
   },
   "outputs": [
    {
     "data": {
      "text/plain": [
       "(60, 128, 40)"
      ]
     },
     "execution_count": 9,
     "metadata": {},
     "output_type": "execute_result"
    }
   ],
   "source": [
    "dm.shape"
   ]
  },
  {
   "cell_type": "code",
   "execution_count": 10,
   "metadata": {
    "collapsed": false
   },
   "outputs": [],
   "source": [
    "plt.figure(1)\n",
    "plt.pcolor(dm[:,:,20])\n",
    "plt.colorbar()\n",
    "plt.savefig(\"densitymap_z.png\")\n",
    "plt.figure(2)\n",
    "plt.pcolor(dm[:,64,:])\n",
    "plt.colorbar()\n",
    "plt.savefig(\"densitymap_y.png\")\n",
    "plt.figure(3)\n",
    "plt.pcolor(dm[30,:,:])\n",
    "plt.colorbar()\n",
    "plt.savefig(\"densitymap_x.png\")"
   ]
  },
  {
   "cell_type": "markdown",
   "metadata": {},
   "source": [
    "load density matrix from nii"
   ]
  },
  {
   "cell_type": "code",
   "execution_count": 11,
   "metadata": {
    "collapsed": false
   },
   "outputs": [],
   "source": [
    "a = nib.load(\"fa-dm.nii.gz\")\n",
    "da = a.get_data()"
   ]
  },
  {
   "cell_type": "markdown",
   "metadata": {
    "collapsed": true
   },
   "source": [
    "plot distribution of the density map of one slice"
   ]
  },
  {
   "cell_type": "code",
   "execution_count": 13,
   "metadata": {
    "collapsed": false
   },
   "outputs": [
    {
     "name": "stderr",
     "output_type": "stream",
     "text": [
      "/Users/ghfc/anaconda/lib/python2.7/site-packages/matplotlib/axes/_axes.py:519: UserWarning: No labelled objects found. Use label='...' kwarg on individual plots.\n",
      "  warnings.warn(\"No labelled objects found. \"\n"
     ]
    }
   ],
   "source": [
    "fig_hist, ax = plt.subplots(1)\n",
    "ax.hist(dm[:,64,20])\n",
    "ax.set_xlabel('Voxel')\n",
    "ax.set_ylabel('Count')\n",
    "plt.show()\n",
    "plt.legend()"
   ]
  },
  {
   "cell_type": "markdown",
   "metadata": {
    "collapsed": true
   },
   "source": [
    "clustering similar streamlines / QuickBundles"
   ]
  },
  {
   "cell_type": "code",
   "execution_count": 14,
   "metadata": {
    "collapsed": true
   },
   "outputs": [],
   "source": [
    "qb = QuickBundles(threshold=1.)\n",
    "clusters = qb.cluster(streamlines)"
   ]
  },
  {
   "cell_type": "code",
   "execution_count": 15,
   "metadata": {
    "collapsed": false,
    "scrolled": true
   },
   "outputs": [
    {
     "name": "stdout",
     "output_type": "stream",
     "text": [
      "('Nb. clusters:', 348)\n",
      "('Cluster sizes:', [56, 195, 106, 38, 79, 50, 96, 181, 14, 42, 68, 31, 53, 2, 211, 28, 95, 124, 47, 87, 122, 78, 116, 14, 5, 73, 15, 100, 44, 50, 39, 44, 151, 4, 39, 14, 25, 21, 29, 55, 63, 17, 18, 18, 47, 12, 15, 14, 5, 12, 19, 64, 15, 2, 3, 62, 33, 5, 117, 35, 3, 6, 17, 3, 80, 18, 6, 41, 28, 24, 67, 1, 23, 22, 56, 41, 43, 1, 43, 83, 73, 117, 104, 66, 1, 15, 10, 69, 22, 74, 14, 58, 105, 17, 30, 1, 1, 1, 2, 3, 2, 37, 11, 5, 127, 14, 1, 29, 1, 8, 24, 97, 1, 5, 3, 2, 1, 5, 18, 15, 30, 137, 1, 17, 14, 12, 33, 83, 12, 2, 9, 100, 1, 138, 7, 11, 9, 5, 1, 58, 49, 2, 6, 16, 40, 32, 2, 12, 20, 76, 42, 82, 10, 28, 39, 37, 1, 17, 28, 29, 12, 2, 7, 24, 2, 6, 3, 13, 13, 43, 1, 8, 26, 19, 15, 57, 26, 7, 19, 22, 26, 1, 73, 121, 17, 7, 5, 16, 104, 75, 23, 29, 6, 2, 78, 42, 25, 103, 5, 159, 35, 81, 18, 115, 68, 23, 32, 22, 128, 28, 52, 13, 4, 39, 44, 12, 14, 118, 27, 3, 16, 113, 39, 12, 34, 26, 3, 24, 62, 13, 33, 22, 120, 1, 65, 46, 2, 129, 5, 14, 7, 1, 22, 55, 18, 52, 31, 2, 11, 1, 62, 1, 135, 19, 34, 1, 1, 88, 2, 1, 18, 4, 46, 20, 36, 4, 48, 16, 83, 34, 5, 90, 31, 82, 61, 5, 71, 2, 28, 8, 162, 3, 14, 10, 48, 23, 5, 27, 5, 50, 32, 36, 24, 122, 57, 7, 10, 141, 8, 138, 45, 156, 10, 82, 16, 2, 17, 63, 50, 112, 29, 23, 35, 11, 1, 3, 1, 2, 1, 44, 3, 14, 1, 14, 36, 9, 1, 160, 8, 106, 1, 68, 8, 10, 82, 24, 84, 49, 2, 69, 13, 1, 2, 37, 1, 7, 18, 3])\n",
      "('Small clusters:', array([False, False, False, False, False, False, False, False, False,\n",
      "       False, False, False, False,  True, False, False, False, False,\n",
      "       False, False, False, False, False, False,  True, False, False,\n",
      "       False, False, False, False, False, False,  True, False, False,\n",
      "       False, False, False, False, False, False, False, False, False,\n",
      "       False, False, False,  True, False, False, False, False,  True,\n",
      "        True, False, False,  True, False, False,  True,  True, False,\n",
      "        True, False, False,  True, False, False, False, False,  True,\n",
      "       False, False, False, False, False,  True, False, False, False,\n",
      "       False, False, False,  True, False, False, False, False, False,\n",
      "       False, False, False, False, False,  True,  True,  True,  True,\n",
      "        True,  True, False, False,  True, False, False,  True, False,\n",
      "        True,  True, False, False,  True,  True,  True,  True,  True,\n",
      "        True, False, False, False, False,  True, False, False, False,\n",
      "       False, False, False,  True,  True, False,  True, False,  True,\n",
      "       False,  True,  True,  True, False, False,  True,  True, False,\n",
      "       False, False,  True, False, False, False, False, False, False,\n",
      "       False, False, False,  True, False, False, False, False,  True,\n",
      "        True, False,  True,  True,  True, False, False, False,  True,\n",
      "        True, False, False, False, False, False,  True, False, False,\n",
      "       False,  True, False, False, False,  True,  True, False, False,\n",
      "       False, False, False,  True,  True, False, False, False, False,\n",
      "        True, False, False, False, False, False, False, False, False,\n",
      "       False, False, False, False, False,  True, False, False, False,\n",
      "       False, False, False,  True, False, False, False, False, False,\n",
      "       False,  True, False, False, False, False, False, False,  True,\n",
      "       False, False,  True, False,  True, False,  True,  True, False,\n",
      "       False, False, False, False,  True, False,  True, False,  True,\n",
      "       False, False, False,  True,  True, False,  True,  True, False,\n",
      "        True, False, False, False,  True, False, False, False, False,\n",
      "        True, False, False, False, False,  True, False,  True, False,\n",
      "        True, False,  True, False, False, False, False,  True, False,\n",
      "        True, False, False, False, False, False, False,  True, False,\n",
      "       False,  True, False, False, False, False, False, False,  True,\n",
      "       False, False, False, False, False, False, False, False,  True,\n",
      "        True,  True,  True,  True, False,  True, False,  True, False,\n",
      "       False,  True,  True, False,  True, False,  True, False,  True,\n",
      "       False, False, False, False, False,  True, False, False,  True,\n",
      "        True, False,  True,  True, False,  True], dtype=bool))\n",
      "('Streamlines indices of the first cluster:\\n', [0, 1, 2, 6, 28, 36, 37, 46, 47, 55, 140, 150, 151, 152, 162, 163, 164, 165, 176, 177, 188, 189, 351, 361, 362, 365, 366, 375, 382, 595, 623, 624, 640, 641, 692, 694, 932, 950, 969, 971, 987, 988, 1003, 1004, 1021, 1380, 1381, 1395, 1397, 1398, 1399, 1400, 1446, 1784, 1803, 2695])\n",
      "('Centroid of the last cluster:\\n', array([[  9.07265377,  13.88462734,   7.62823486],\n",
      "       [  9.01016998,  13.57102489,   7.57871008],\n",
      "       [  8.98540211,  13.22677231,   7.52309608],\n",
      "       [  9.02625561,  12.87507343,   7.49651146],\n",
      "       [  9.18341637,  12.5517683 ,   7.44865274],\n",
      "       [  9.42370129,  12.29592133,   7.38588095],\n",
      "       [  9.7610054 ,  12.22679138,   7.299263  ],\n",
      "       [ 10.09216785,  12.33792877,   7.21535635],\n",
      "       [ 10.39761448,  12.55456066,   7.17910385],\n",
      "       [ 10.66761017,  12.83435345,   7.15356398],\n",
      "       [ 10.93172455,  13.12251568,   7.13438559],\n",
      "       [ 11.20862579,  13.40021133,   7.13568878]], dtype=float32))\n"
     ]
    }
   ],
   "source": [
    "print(\"Nb. clusters:\", len(clusters))\n",
    "print(\"Cluster sizes:\", map(len, clusters))\n",
    "print(\"Small clusters:\", clusters < 10)\n",
    "print(\"Streamlines indices of the first cluster:\\n\", clusters[0].indices)\n",
    "print(\"Centroid of the last cluster:\\n\", clusters[-1].centroid)"
   ]
  },
  {
   "cell_type": "markdown",
   "metadata": {},
   "source": [
    "render bundles and centroids (& save images)"
   ]
  },
  {
   "cell_type": "code",
   "execution_count": 16,
   "metadata": {
    "collapsed": true
   },
   "outputs": [],
   "source": [
    "ren = fvtk.ren()\n",
    "ren.SetBackground(1, 1, 1)"
   ]
  },
  {
   "cell_type": "code",
   "execution_count": 17,
   "metadata": {
    "collapsed": false
   },
   "outputs": [],
   "source": [
    "fvtk.add(ren, fvtk.streamtube(streamlines, fvtk.colors.white))\n",
    "fvtk.record(ren, n_frames=1, out_path=dname+'fornix_initial.png', size=(600, 600))"
   ]
  },
  {
   "cell_type": "code",
   "execution_count": 18,
   "metadata": {
    "collapsed": true
   },
   "outputs": [],
   "source": [
    "colormap = fvtk.create_colormap(np.arange(len(clusters)))\n",
    "\n",
    "colormap_full = np.ones((len(streamlines), 3))\n",
    "for cluster in clusters:\n",
    "    colormap_full[cluster.indices] = np.random.rand(3)"
   ]
  },
  {
   "cell_type": "code",
   "execution_count": 19,
   "metadata": {
    "collapsed": false
   },
   "outputs": [],
   "source": [
    "fvtk.clear(ren)\n",
    "ren.SetBackground(1, 1, 1)\n",
    "#fvtk.add(ren, fvtk.streamtube(streamlines, fvtk.colors.white, opacity=0.05))\n",
    "fvtk.add(ren, fvtk.line(clusters.centroids, linewidth=0.4, opacity=1))\n",
    "#fvtk.record(ren, n_frames=1, out_path='fornix_centroids.png', size=(600, 600))"
   ]
  },
  {
   "cell_type": "code",
   "execution_count": 20,
   "metadata": {
    "collapsed": false
   },
   "outputs": [],
   "source": [
    "fvtk.clear(ren)\n",
    "ren.SetBackground(1, 1, 1)\n",
    "fvtk.add(ren, fvtk.line(streamlines, colormap_full))\n",
    "fvtk.record(ren, n_frames=1, out_path='fornix_clusters.png', size=(600, 600))"
   ]
  },
  {
   "cell_type": "code",
   "execution_count": 21,
   "metadata": {
    "collapsed": true
   },
   "outputs": [],
   "source": [
    "fvtk.show(ren)"
   ]
  },
  {
   "cell_type": "code",
   "execution_count": 22,
   "metadata": {
    "collapsed": true
   },
   "outputs": [],
   "source": [
    "fvtk.clear(ren)"
   ]
  },
  {
   "cell_type": "markdown",
   "metadata": {},
   "source": [
    "Distance (between centroids) matrix"
   ]
  },
  {
   "cell_type": "code",
   "execution_count": 23,
   "metadata": {
    "collapsed": false
   },
   "outputs": [],
   "source": [
    "from dipy.tracking.distances import bundles_distances_mdf\n",
    "\n",
    "D = bundles_distances_mdf(clusters.centroids, clusters.centroids)"
   ]
  },
  {
   "cell_type": "code",
   "execution_count": 24,
   "metadata": {
    "collapsed": false
   },
   "outputs": [
    {
     "data": {
      "text/plain": [
       "<matplotlib.image.AxesImage at 0x12d60c410>"
      ]
     },
     "execution_count": 24,
     "metadata": {},
     "output_type": "execute_result"
    }
   ],
   "source": [
    "imshow(D)"
   ]
  }
 ],
 "metadata": {
  "kernelspec": {
   "display_name": "Python 2",
   "language": "python",
   "name": "python2"
  },
  "language_info": {
   "codemirror_mode": {
    "name": "ipython",
    "version": 2
   },
   "file_extension": ".py",
   "mimetype": "text/x-python",
   "name": "python",
   "nbconvert_exporter": "python",
   "pygments_lexer": "ipython2",
   "version": "2.7.11"
  }
 },
 "nbformat": 4,
 "nbformat_minor": 0
}
