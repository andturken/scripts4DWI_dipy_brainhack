{
 "cells": [
  {
   "cell_type": "markdown",
   "metadata": {},
   "source": [
    "Import data"
   ]
  },
  {
   "cell_type": "code",
   "execution_count": 2,
   "metadata": {
    "collapsed": false
   },
   "outputs": [],
   "source": [
    "def importData(ftrk,ffa,fdwi):  \n",
    "    import nibabel as nib\n",
    "    \n",
    "    fa_img = nib.load(ffa)\n",
    "    fa = fa_img.get_data()\n",
    "    affine = fa_img.get_affine()\n",
    "\n",
    "    img = nib.load(fdwi)\n",
    "    data = img.get_data()\n",
    "\n",
    "    from nibabel import trackvis\n",
    "    streams, hdr = trackvis.read(ftrk)\n",
    "    streamlines = [s[0] for s in streams]\n",
    "    \n",
    "    return (fa,affine,data,streamlines)"
   ]
  },
  {
   "cell_type": "markdown",
   "metadata": {},
   "source": [
    "Length infos"
   ]
  },
  {
   "cell_type": "code",
   "execution_count": 3,
   "metadata": {
    "collapsed": false
   },
   "outputs": [],
   "source": [
    "def getLengths(streamlines):\n",
    "    from dipy.tracking.utils import length\n",
    "    lengths = list(length(streamlines))\n",
    "\n",
    "    nb_stl = len(streamlines)\n",
    "    min_len = min(length(streamlines))\n",
    "    max_len = max(length(streamlines))\n",
    "\n",
    "    print('Nb. streamlines:')\n",
    "    print(nb_stl)\n",
    "    print('Min length:')\n",
    "    print(min_len)\n",
    "    print('Max length:')\n",
    "    print(max_len)\n",
    "    \n",
    "    return lengths"
   ]
  },
  {
   "cell_type": "markdown",
   "metadata": {
    "collapsed": true
   },
   "source": [
    "Filter with length"
   ]
  },
  {
   "cell_type": "code",
   "execution_count": 4,
   "metadata": {
    "collapsed": false
   },
   "outputs": [],
   "source": [
    "def filterLength(streamlines, thr_len):\n",
    "    from dipy.tracking.utils import length\n",
    "    new_streamlines = [ s for s, l in zip(streamlines, getLengths(streamlines)) if l > thr_len ] #3.5 #2.5\n",
    "\n",
    "    #new_streamlines_l = list(new_streamlines)\n",
    "    new_lengths = list(length(new_streamlines))\n",
    "    print('Nb. new streamlines:')\n",
    "    print(len(new_streamlines))\n",
    "    \n",
    "    return new_streamlines"
   ]
  },
  {
   "cell_type": "markdown",
   "metadata": {},
   "source": [
    "QuickBundle"
   ]
  },
  {
   "cell_type": "code",
   "execution_count": 16,
   "metadata": {
    "collapsed": true
   },
   "outputs": [],
   "source": [
    "def computeQuickBundles(streamlines, threshold): #1.\n",
    "    from dipy.segment.clustering import QuickBundles\n",
    "\n",
    "    qb = QuickBundles(threshold)\n",
    "    clusters = qb.cluster(streamlines)\n",
    "\n",
    "    print(\"Nb. clusters:\", len(clusters))\n",
    "    #print(\"Cluster sizes:\", map(len, clusters))\n",
    "    print(\"Nb. small clusters:\", sum(clusters < 10))\n",
    "    #print(\"Streamlines indices of the first cluster:\\n\", clusters[0].indices)\n",
    "    #print(\"Centroid of the last cluster:\\n\", clusters[-1].centroid)\n",
    "\n",
    "    return clusters"
   ]
  },
  {
   "cell_type": "code",
   "execution_count": 17,
   "metadata": {
    "collapsed": true
   },
   "outputs": [],
   "source": [
    "def renderCentroids(streamlines, clusters):\n",
    "    from dipy.viz import fvtk\n",
    "    import numpy as np\n",
    "    \n",
    "    ren = fvtk.ren()\n",
    "    ren.SetBackground(0, 0, 0)\n",
    "    colormap = fvtk.create_colormap(np.arange(len(clusters)))\n",
    "\n",
    "    colormap_full = np.ones((len(streamlines), 3))\n",
    "    for cluster in clusters:\n",
    "        colormap_full[cluster.indices] = np.random.rand(3)\n",
    "\n",
    "    #fvtk.add(ren, fvtk.streamtube(streamlines, fvtk.colors.white, opacity=0.05))\n",
    "    fvtk.add(ren, fvtk.line(clusters.centroids, linewidth=0.4, opacity=1))\n",
    "    #fvtk.record(ren, n_frames=1, out_path='fornix_centroids.png', size=(600, 600))\n",
    "    fvtk.show(ren)\n",
    "    fvtk.clear(ren)"
   ]
  },
  {
   "cell_type": "code",
   "execution_count": 1,
   "metadata": {
    "collapsed": false
   },
   "outputs": [],
   "source": [
    "def renderBundles(streamlines, clusters):\n",
    "    from dipy.viz import fvtk\n",
    "    import numpy as np\n",
    "    \n",
    "    ren = fvtk.ren()\n",
    "    ren.SetBackground(0, 0, 0)\n",
    "\n",
    "    colormap = fvtk.create_colormap(np.arange(len(clusters)))\n",
    "\n",
    "    colormap_full = np.ones((len(streamlines), 3))\n",
    "    for cluster in clusters:\n",
    "        colormap_full[cluster.indices] = np.random.rand(3)\n",
    "\n",
    "    fvtk.add(ren, fvtk.line(streamlines, colormap_full))\n",
    "    #fvtk.record(ren, n_frames=1, out_path='fornix_clusters.png', size=(600, 600))\n",
    "    fvtk.show(ren)\n",
    "    fvtk.clear(ren)"
   ]
  },
  {
   "cell_type": "markdown",
   "metadata": {},
   "source": [
    "Filter if small bundle"
   ]
  },
  {
   "cell_type": "code",
   "execution_count": 21,
   "metadata": {
    "collapsed": false
   },
   "outputs": [],
   "source": [
    "def filterSmallBundles(streamlines, clusters, len_thr): #10\n",
    "    j = 0\n",
    "    smallbundles_list =[]\n",
    "    for c,i in zip(clusters,range(len(clusters))):\n",
    "        if len(c)<len_thr:\n",
    "            j = j+1\n",
    "            #print j\n",
    "            #print clusters[i]\n",
    "            for ii in range(len(clusters[i])):\n",
    "                smallbundles_list.append(clusters[i].indices[ii])\n",
    "\n",
    "\n",
    "    print 'Nb. streamlines from small bundles: '\n",
    "    print len(smallbundles_list)\n",
    "    #print smallbundles_list\n",
    "\n",
    "    new_streamlines = []\n",
    "    for i in range(len(streamlines)):\n",
    "        if i not in smallbundles_list:\n",
    "            new_streamlines.append(streamlines[i])\n",
    "\n",
    "    print 'Nb. streamlines before filtering'\n",
    "    print len(streamlines)    \n",
    "    print 'Nb. streamlines after filtering'\n",
    "    print len(new_streamlines)\n",
    "    return new_streamlines"
   ]
  },
  {
   "cell_type": "markdown",
   "metadata": {},
   "source": [
    "Print info on the number of streamlines, bundles and min and max length"
   ]
  },
  {
   "cell_type": "code",
   "execution_count": null,
   "metadata": {
    "collapsed": true
   },
   "outputs": [],
   "source": [
    "def getData4Analyses(streamlines,clusters,lengths):\n",
    "    print('Nb. streamlines, Nb. Bundles, Min length, Max length')\n",
    "    print len(streamlines),len(clusters),min(lengths),max(lengths)"
   ]
  }
 ],
 "metadata": {
  "anaconda-cloud": {},
  "kernelspec": {
   "display_name": "Python [conda root]",
   "language": "python",
   "name": "conda-root-py"
  },
  "language_info": {
   "codemirror_mode": {
    "name": "ipython",
    "version": 2
   },
   "file_extension": ".py",
   "mimetype": "text/x-python",
   "name": "python",
   "nbconvert_exporter": "python",
   "pygments_lexer": "ipython2",
   "version": "2.7.12"
  }
 },
 "nbformat": 4,
 "nbformat_minor": 0
}
