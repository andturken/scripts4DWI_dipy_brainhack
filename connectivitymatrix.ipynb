{
 "cells": [
  {
   "cell_type": "markdown",
   "metadata": {},
   "source": [
    "# Work in progress"
   ]
  },
  {
   "cell_type": "code",
   "execution_count": 56,
   "metadata": {
    "collapsed": true
   },
   "outputs": [],
   "source": [
    "import numpy as np\n",
    "import matplotlib.pyplot as plt\n",
    "import nibabel as nib\n",
    "from nibabel import trackvis\n",
    "from dipy.tracking import utils"
   ]
  },
  {
   "cell_type": "code",
   "execution_count": 57,
   "metadata": {
    "collapsed": true
   },
   "outputs": [],
   "source": [
    "subj = 'F25_P2'\n",
    "dname = 'E:/Celine/Ferret_b2n/'+subj+'/'\n",
    "ftrk = dname + 'tracto_gtab_tricked_den_sd_2_peaks08.trk'\n",
    "ffa = dname + 'tensor_fa_sd_2.nii.gz'"
   ]
  },
  {
   "cell_type": "code",
   "execution_count": 58,
   "metadata": {
    "collapsed": false
   },
   "outputs": [
    {
     "name": "stderr",
     "output_type": "stream",
     "text": [
      "C:\\Users\\cdelettre\\Anaconda2\\lib\\site-packages\\ipykernel\\__main__.py:3: DeprecationWarning: get_affine method is deprecated.\n",
      "Please use the ``img.affine`` property instead.\n",
      "\n",
      "* deprecated from version: 2.1\n",
      "* Will raise <class 'nibabel.deprecator.ExpiredDeprecationError'> as of version: 4.0\n",
      "  app.launch_new_instance()\n"
     ]
    }
   ],
   "source": [
    "fa_img = nib.load(ffa)\n",
    "fa = fa_img.get_data()\n",
    "affine = fa_img.get_affine()"
   ]
  },
  {
   "cell_type": "code",
   "execution_count": 117,
   "metadata": {
    "collapsed": false
   },
   "outputs": [],
   "source": [
    "streams, hdr = trackvis.read(ftrk,strict=True)\n",
    "streamlines = [s[0] for s in streams]\n",
    "streamlines = list(streamlines)"
   ]
  },
  {
   "cell_type": "code",
   "execution_count": 60,
   "metadata": {
    "collapsed": true
   },
   "outputs": [],
   "source": [
    "fmask = dname + 'mask_to_dwi.nii.gz' \n",
    "mask_img = nib.load(fmask)\n",
    "mask = mask_img.get_data()"
   ]
  },
  {
   "cell_type": "code",
   "execution_count": 76,
   "metadata": {
    "collapsed": false
   },
   "outputs": [
    {
     "data": {
      "text/plain": [
       "list"
      ]
     },
     "execution_count": 76,
     "metadata": {},
     "output_type": "execute_result"
    }
   ],
   "source": [
    "type(streams)"
   ]
  },
  {
   "cell_type": "code",
   "execution_count": 112,
   "metadata": {
    "collapsed": false
   },
   "outputs": [
    {
     "data": {
      "text/plain": [
       "array([ 24.16425896,   6.89999962,   1.62      ], dtype=float32)"
      ]
     },
     "execution_count": 112,
     "metadata": {},
     "output_type": "execute_result"
    }
   ],
   "source": [
    "streamlines[0]"
   ]
  },
  {
   "cell_type": "code",
   "execution_count": 61,
   "metadata": {
    "collapsed": false
   },
   "outputs": [
    {
     "data": {
      "text/plain": [
       "(128L, 60L, 40L)"
      ]
     },
     "execution_count": 61,
     "metadata": {},
     "output_type": "execute_result"
    }
   ],
   "source": [
    "mask.shape"
   ]
  },
  {
   "cell_type": "code",
   "execution_count": 62,
   "metadata": {
    "collapsed": false
   },
   "outputs": [],
   "source": [
    "# labels such as each voxel included in the mask is a roi\n",
    "\n",
    "labels = mask.copy()\n",
    "\n",
    "labels.shape\n",
    "i=0\n",
    "\n",
    "for z in range(mask.shape[2]):\n",
    "    for y in range(mask.shape[1]):\n",
    "        for index, item in enumerate(labels[:,y,z]):\n",
    "            if item>0.0:\n",
    "                i+=1\n",
    "                labels[index,y,z]=i\n",
    "labels = labels.astype(np.uint8)        "
   ]
  },
  {
   "cell_type": "code",
   "execution_count": null,
   "metadata": {
    "collapsed": true
   },
   "outputs": [],
   "source": []
  },
  {
   "cell_type": "code",
   "execution_count": 119,
   "metadata": {
    "collapsed": false
   },
   "outputs": [
    {
     "data": {
      "text/plain": [
       "array([[ 0.        ,  0.23999999,  0.        ,  0.        ],\n",
       "       [-0.23984376,  0.        ,  0.        ,  0.        ],\n",
       "       [ 0.        ,  0.        ,  0.23999999,  0.        ],\n",
       "       [ 0.        ,  0.        ,  0.        ,  1.        ]])"
      ]
     },
     "execution_count": 119,
     "metadata": {},
     "output_type": "execute_result"
    }
   ],
   "source": [
    "affine"
   ]
  },
  {
   "cell_type": "code",
   "execution_count": null,
   "metadata": {
    "collapsed": true
   },
   "outputs": [],
   "source": []
  },
  {
   "cell_type": "code",
   "execution_count": 118,
   "metadata": {
    "collapsed": false
   },
   "outputs": [
    {
     "ename": "IndexError",
     "evalue": "streamline has points that map to negative voxel indices",
     "output_type": "error",
     "traceback": [
      "\u001b[1;31m---------------------------------------------------------------------------\u001b[0m",
      "\u001b[1;31mIndexError\u001b[0m                                Traceback (most recent call last)",
      "\u001b[1;32m<ipython-input-118-a3e7c1592229>\u001b[0m in \u001b[0;36m<module>\u001b[1;34m()\u001b[0m\n\u001b[0;32m      3\u001b[0m M, grouping = utils.connectivity_matrix(streamlines, labels, affine=affine,\n\u001b[0;32m      4\u001b[0m                                         \u001b[0mreturn_mapping\u001b[0m\u001b[1;33m=\u001b[0m\u001b[0mTrue\u001b[0m\u001b[1;33m,\u001b[0m\u001b[1;33m\u001b[0m\u001b[0m\n\u001b[1;32m----> 5\u001b[1;33m                                         mapping_as_streamlines=True)\n\u001b[0m",
      "\u001b[1;32mC:\\Users\\cdelettre\\Anaconda2\\lib\\site-packages\\dipy\\tracking\\utils.pyc\u001b[0m in \u001b[0;36mconnectivity_matrix\u001b[1;34m(streamlines, label_volume, voxel_size, affine, symmetric, return_mapping, mapping_as_streamlines)\u001b[0m\n\u001b[0;32m    193\u001b[0m     \u001b[1;31m# Map the streamlines coordinates to voxel coordinates\u001b[0m\u001b[1;33m\u001b[0m\u001b[1;33m\u001b[0m\u001b[0m\n\u001b[0;32m    194\u001b[0m     \u001b[0mlin_T\u001b[0m\u001b[1;33m,\u001b[0m \u001b[0moffset\u001b[0m \u001b[1;33m=\u001b[0m \u001b[0m_mapping_to_voxel\u001b[0m\u001b[1;33m(\u001b[0m\u001b[0maffine\u001b[0m\u001b[1;33m,\u001b[0m \u001b[0mvoxel_size\u001b[0m\u001b[1;33m)\u001b[0m\u001b[1;33m\u001b[0m\u001b[0m\n\u001b[1;32m--> 195\u001b[1;33m     \u001b[0mendpoints\u001b[0m \u001b[1;33m=\u001b[0m \u001b[0m_to_voxel_coordinates\u001b[0m\u001b[1;33m(\u001b[0m\u001b[0mendpoints\u001b[0m\u001b[1;33m,\u001b[0m \u001b[0mlin_T\u001b[0m\u001b[1;33m,\u001b[0m \u001b[0moffset\u001b[0m\u001b[1;33m)\u001b[0m\u001b[1;33m\u001b[0m\u001b[0m\n\u001b[0m\u001b[0;32m    196\u001b[0m \u001b[1;33m\u001b[0m\u001b[0m\n\u001b[0;32m    197\u001b[0m     \u001b[1;31m# get labels for label_volume\u001b[0m\u001b[1;33m\u001b[0m\u001b[1;33m\u001b[0m\u001b[0m\n",
      "\u001b[1;32mC:\\Users\\cdelettre\\Anaconda2\\lib\\site-packages\\dipy\\tracking\\_utils.pyc\u001b[0m in \u001b[0;36m_to_voxel_coordinates\u001b[1;34m(streamline, lin_T, offset)\u001b[0m\n\u001b[0;32m     62\u001b[0m     \u001b[0minds\u001b[0m \u001b[1;33m+=\u001b[0m \u001b[0moffset\u001b[0m\u001b[1;33m\u001b[0m\u001b[0m\n\u001b[0;32m     63\u001b[0m     \u001b[1;32mif\u001b[0m \u001b[0minds\u001b[0m\u001b[1;33m.\u001b[0m\u001b[0mmin\u001b[0m\u001b[1;33m(\u001b[0m\u001b[1;33m)\u001b[0m\u001b[1;33m.\u001b[0m\u001b[0mround\u001b[0m\u001b[1;33m(\u001b[0m\u001b[0mdecimals\u001b[0m\u001b[1;33m=\u001b[0m\u001b[1;36m6\u001b[0m\u001b[1;33m)\u001b[0m \u001b[1;33m<\u001b[0m \u001b[1;36m0\u001b[0m\u001b[1;33m:\u001b[0m\u001b[1;33m\u001b[0m\u001b[0m\n\u001b[1;32m---> 64\u001b[1;33m         raise IndexError('streamline has points that map to negative voxel'\n\u001b[0m\u001b[0;32m     65\u001b[0m                          ' indices')\n\u001b[0;32m     66\u001b[0m     \u001b[1;32mreturn\u001b[0m \u001b[0minds\u001b[0m\u001b[1;33m.\u001b[0m\u001b[0mastype\u001b[0m\u001b[1;33m(\u001b[0m\u001b[0mint\u001b[0m\u001b[1;33m)\u001b[0m\u001b[1;33m\u001b[0m\u001b[0m\n",
      "\u001b[1;31mIndexError\u001b[0m: streamline has points that map to negative voxel indices"
     ]
    }
   ],
   "source": [
    "# can't use until we have labels\n",
    "\n",
    "M, grouping = utils.connectivity_matrix(streamlines, labels, affine=affine,\n",
    "                                        return_mapping=True,\n",
    "                                        mapping_as_streamlines=True)"
   ]
  },
  {
   "cell_type": "code",
   "execution_count": null,
   "metadata": {
    "collapsed": true
   },
   "outputs": [],
   "source": [
    "plt.imshow(np.log1p(M), interpolation='nearest')\n",
    "plt.savefig(\"connectivity.png\")"
   ]
  }
 ],
 "metadata": {
  "anaconda-cloud": {},
  "kernelspec": {
   "display_name": "Python [default]",
   "language": "python",
   "name": "python2"
  },
  "language_info": {
   "codemirror_mode": {
    "name": "ipython",
    "version": 2
   },
   "file_extension": ".py",
   "mimetype": "text/x-python",
   "name": "python",
   "nbconvert_exporter": "python",
   "pygments_lexer": "ipython2",
   "version": "2.7.12"
  }
 },
 "nbformat": 4,
 "nbformat_minor": 0
}
