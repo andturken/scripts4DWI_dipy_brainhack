{
 "cells": [
  {
   "cell_type": "code",
   "execution_count": 21,
   "metadata": {
    "collapsed": true
   },
   "outputs": [],
   "source": [
    "import os\n",
    "import sys\n",
    "sys.path.append('/media/sf_host-scripts/bruker2nifti')"
   ]
  },
  {
   "cell_type": "code",
   "execution_count": 22,
   "metadata": {},
   "outputs": [],
   "source": [
    "from bruker2nifti.converter import Bruker2Nifti"
   ]
  },
  {
   "cell_type": "code",
   "execution_count": 23,
   "metadata": {
    "collapsed": true
   },
   "outputs": [],
   "source": [
    "pfo_study_in = os.path.join('/media/sf_host-data/Ferret_raw/F01_Adult/')\n",
    "pfo_study_out = '/media/sf_host-data/Ferret_raw/results'"
   ]
  },
  {
   "cell_type": "code",
   "execution_count": 24,
   "metadata": {},
   "outputs": [],
   "source": [
    "bru = Bruker2Nifti(pfo_study_in, pfo_study_out, study_name='F01_Adult')"
   ]
  },
  {
   "cell_type": "code",
   "execution_count": 25,
   "metadata": {},
   "outputs": [
    {
     "name": "stdout",
     "output_type": "stream",
     "text": [
      "['10']\n"
     ]
    }
   ],
   "source": [
    "print(bru.scans_list)"
   ]
  },
  {
   "cell_type": "code",
   "execution_count": 26,
   "metadata": {},
   "outputs": [
    {
     "name": "stdout",
     "output_type": "stream",
     "text": [
      "['F01_Adult_10']\n"
     ]
    }
   ],
   "source": [
    "print(bru.list_new_name_each_scan)"
   ]
  },
  {
   "cell_type": "code",
   "execution_count": 27,
   "metadata": {
    "collapsed": true
   },
   "outputs": [],
   "source": [
    "bru.correct_reco_slope = True"
   ]
  },
  {
   "cell_type": "code",
   "execution_count": 28,
   "metadata": {},
   "outputs": [
    {
     "name": "stdout",
     "output_type": "stream",
     "text": [
      "\n",
      "Study conversion \n",
      "/media/sf_host-data/Ferret_raw/F01_Adult/\n",
      "started:\n",
      "\n",
      "\n",
      "Converting experiment 10:\n",
      "\n",
      "pdata/\n",
      "    .DS_Store\n",
      "    ._.DS_Store\n",
      "    1/\n",
      "        .DS_Store\n",
      "        ._.DS_Store\n",
      "        ._2dseq\n",
      "        ._d3proc\n",
      "        ._id\n",
      "        ._meta\n",
      "        ._procs\n",
      "        ._reco\n",
      "        ._roi\n",
      "        ._visu_pars\n",
      "        2dseq\n",
      "        2dseq.src.gz.fy.dti.fib.gz\n",
      "        2dseq.src.nii.gz\n",
      "        d3proc\n",
      "        id\n",
      "        meta\n",
      "        procs\n",
      "        reco\n",
      "        roi\n",
      "        visu_pars\n",
      "Processing scan 1\n",
      "Diffusion weighted directions saved in /media/sf_host-data/Ferret_raw/results/F01_Adult/F01_Adult_10/F01_Adult_10_DwDir.npy\n",
      "B-vectors saved in /media/sf_host-data/Ferret_raw/results/F01_Adult/F01_Adult_10/F01_Adult_10_DwEffBval.npy\n",
      "B-values  saved in /media/sf_host-data/Ferret_raw/results/F01_Adult/F01_Adult_10/F01_Adult_10_DwGradVec.npy\n",
      "b0 scan saved alone in /media/sf_host-data/Ferret_raw/results/F01_Adult/F01_Adult_10/F01_Adult_10_b0.nii.gz\n",
      "\n",
      "Study converted and saved in \n",
      "/media/sf_host-data/Ferret_raw/results\n"
     ]
    }
   ],
   "source": [
    "bru.convert()"
   ]
  },
  {
   "cell_type": "code",
   "execution_count": null,
   "metadata": {
    "collapsed": true
   },
   "outputs": [],
   "source": []
  },
  {
   "cell_type": "code",
   "execution_count": null,
   "metadata": {
    "collapsed": true
   },
   "outputs": [],
   "source": []
  }
 ],
 "metadata": {
  "anaconda-cloud": {},
  "kernelspec": {
   "display_name": "Python 2",
   "language": "python",
   "name": "python2"
  },
  "language_info": {
   "codemirror_mode": {
    "name": "ipython",
    "version": 2
   },
   "file_extension": ".py",
   "mimetype": "text/x-python",
   "name": "python",
   "nbconvert_exporter": "python",
   "pygments_lexer": "ipython2",
   "version": "2.7.13"
  }
 },
 "nbformat": 4,
 "nbformat_minor": 1
}
