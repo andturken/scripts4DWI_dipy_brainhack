{
 "cells": [
  {
   "cell_type": "code",
   "execution_count": 1,
   "metadata": {
    "collapsed": false
   },
   "outputs": [
    {
     "name": "stdout",
     "output_type": "stream",
     "text": [
      "Using matplotlib backend: Qt5Agg\n",
      "Populating the interactive namespace from numpy and matplotlib\n"
     ]
    }
   ],
   "source": [
    "%pylab\n",
    "import numpy as np\n",
    "import nibabel as nib\n",
    "\n",
    "from dipy.io.gradients import read_bvals_bvecs\n",
    "from dipy.core.gradients import gradient_table\n",
    "\n",
    "import dipy.reconst.dti as dti"
   ]
  },
  {
   "cell_type": "markdown",
   "metadata": {},
   "source": [
    "Load files"
   ]
  },
  {
   "cell_type": "code",
   "execution_count": 2,
   "metadata": {
    "collapsed": false
   },
   "outputs": [],
   "source": [
    "subj = 'F22_Adult'\n",
    "\n",
    "dname = 'E:/Celine/Ferret_b2n/'+subj+'/'\n",
    "\n",
    "fdwi = subj+'_rot_den' #nii from b2n   f25-p2-noswap-noflip\n",
    "niigz = '.nii.gz'\n",
    "\n",
    "img = nib.load(dname+fdwi+niigz)\n",
    "data = img.get_data()\n",
    "affine = img.affine\n",
    "\n",
    "fbval = 'bvals' \n",
    "fbvec = 'bvecs'\n",
    "\n",
    "bvals, bvecs = read_bvals_bvecs(dname+fbval, dname+fbvec)\n",
    "\n",
    "gtab = gradient_table(bvals, bvecs, b0_threshold=50)\n",
    "\n",
    "fmask = '' #dname + 'mask_to_dwi.nii.gz' "
   ]
  },
  {
   "cell_type": "markdown",
   "metadata": {},
   "source": [
    "Adjust gradients"
   ]
  },
  {
   "cell_type": "code",
   "execution_count": 3,
   "metadata": {
    "collapsed": false
   },
   "outputs": [],
   "source": [
    "non0bvecs = np.count_nonzero(bvecs[:,0])"
   ]
  },
  {
   "cell_type": "code",
   "execution_count": 8,
   "metadata": {
    "collapsed": false
   },
   "outputs": [
    {
     "data": {
      "text/plain": [
       "array([[ 0.        ,  0.23999999,  0.        ,  0.        ],\n",
       "       [-0.23999999,  0.        ,  0.        ,  0.        ],\n",
       "       [ 0.        ,  0.        ,  0.23999999,  0.        ],\n",
       "       [ 0.        ,  0.        ,  0.        ,  1.        ]])"
      ]
     },
     "execution_count": 8,
     "metadata": {},
     "output_type": "execute_result"
    }
   ],
   "source": [
    "affine"
   ]
  },
  {
   "cell_type": "code",
   "execution_count": 9,
   "metadata": {
    "collapsed": false
   },
   "outputs": [],
   "source": [
    "affine_tricked = affine[:,[2,1,0,3]]  #swap 1st and 3rd axis 2103"
   ]
  },
  {
   "cell_type": "code",
   "execution_count": 10,
   "metadata": {
    "collapsed": true
   },
   "outputs": [],
   "source": [
    "affine_tricked[:,0] *= -1  # flip 1st and 2nd axis\n",
    "affine_tricked[:,1] *= -1\n",
    "affine_tricked[:,2] *= 1"
   ]
  },
  {
   "cell_type": "code",
   "execution_count": 11,
   "metadata": {
    "collapsed": false
   },
   "outputs": [],
   "source": [
    "affine_again = np.tile([affine_tricked],(non0bvecs,1,1)) #affine_tricked"
   ]
  },
  {
   "cell_type": "code",
   "execution_count": 12,
   "metadata": {
    "collapsed": false
   },
   "outputs": [],
   "source": [
    "from dipy.core.gradients import reorient_bvecs\n",
    "gtab_new = reorient_bvecs(gtab,affine_again)"
   ]
  },
  {
   "cell_type": "code",
   "execution_count": 13,
   "metadata": {
    "collapsed": false
   },
   "outputs": [
    {
     "data": {
      "text/plain": [
       "array([[-0.        , -0.23999999,  0.        ,  0.        ],\n",
       "       [-0.        , -0.        , -0.23999999,  0.        ],\n",
       "       [-0.23999999, -0.        ,  0.        ,  0.        ],\n",
       "       [-0.        , -0.        ,  0.        ,  1.        ]])"
      ]
     },
     "execution_count": 13,
     "metadata": {},
     "output_type": "execute_result"
    }
   ],
   "source": [
    "affine_tricked"
   ]
  },
  {
   "cell_type": "markdown",
   "metadata": {},
   "source": [
    "Load or create mask"
   ]
  },
  {
   "cell_type": "code",
   "execution_count": 14,
   "metadata": {
    "collapsed": false
   },
   "outputs": [
    {
     "name": "stderr",
     "output_type": "stream",
     "text": [
      "C:\\Users\\cdelettre\\Anaconda2\\lib\\site-packages\\skimage\\filter\\__init__.py:6: skimage_deprecation: The `skimage.filter` module has been renamed to `skimage.filters`.  This placeholder module will be removed in v0.13.\n",
      "  warn(skimage_deprecation('The `skimage.filter` module has been renamed '\n"
     ]
    },
    {
     "name": "stdout",
     "output_type": "stream",
     "text": [
      "Cannot open   \n",
      " will generate an automated mask using median_otsu from Dipy\n"
     ]
    }
   ],
   "source": [
    "try:\n",
    "    from dipy.segment.mask import applymask\n",
    "    mask_img = nib.load(fmask)\n",
    "    mask = mask_img.get_data()\n",
    "    mask[mask>1] =1 #binarize\n",
    "    maskdata = applymask(data,mask)\n",
    "except IOError:\n",
    "    print \"Cannot open \",fmask,\"\\n will generate an automated mask using median_otsu from Dipy\"\n",
    "\n",
    "    from dipy.segment.mask import median_otsu\n",
    "    maskdata, mask = median_otsu(data, 3, 1, False, dilate=2 ) #crop:removes the contours, changes coordinates"
   ]
  },
  {
   "cell_type": "markdown",
   "metadata": {},
   "source": [
    "Create and fit tensor model (DTI)"
   ]
  },
  {
   "cell_type": "code",
   "execution_count": 15,
   "metadata": {
    "collapsed": true
   },
   "outputs": [],
   "source": [
    "tenmodel = dti.TensorModel(gtab_new)  ### gtab_new if gradients modified"
   ]
  },
  {
   "cell_type": "code",
   "execution_count": 16,
   "metadata": {
    "collapsed": true
   },
   "outputs": [],
   "source": [
    "tenfit = tenmodel.fit(maskdata)"
   ]
  },
  {
   "cell_type": "markdown",
   "metadata": {},
   "source": [
    "Compute FA, MD, RGB"
   ]
  },
  {
   "cell_type": "code",
   "execution_count": 17,
   "metadata": {
    "collapsed": false
   },
   "outputs": [],
   "source": [
    "#print('Computing anisotropy measures (FA, MD, RGB)')\n",
    "from dipy.reconst.dti import fractional_anisotropy, color_fa, lower_triangular\n",
    "\n",
    "FA = fractional_anisotropy(tenfit.evals)"
   ]
  },
  {
   "cell_type": "code",
   "execution_count": 18,
   "metadata": {
    "collapsed": true
   },
   "outputs": [],
   "source": [
    "FA[np.isnan(FA)] = 0"
   ]
  },
  {
   "cell_type": "code",
   "execution_count": 19,
   "metadata": {
    "collapsed": false
   },
   "outputs": [],
   "source": [
    "fa_img = nib.Nifti1Image(FA.astype(np.float32), affine) #img.affine\n",
    "nib.save(fa_img, dname+'tensor_fa_'+fdwi+\"_modifiedgtab_-2-10\"+niigz)"
   ]
  },
  {
   "cell_type": "code",
   "execution_count": 98,
   "metadata": {
    "collapsed": false
   },
   "outputs": [],
   "source": [
    "#MD1 = dti.mean_diffusivity(tenfit.evals)\n",
    "#nib.save(nib.Nifti1Image(MD1.astype(np.float32), affine), dname+'tensors_md.nii.gz')"
   ]
  },
  {
   "cell_type": "code",
   "execution_count": 99,
   "metadata": {
    "collapsed": true
   },
   "outputs": [],
   "source": [
    "#FA = np.clip(FA, 0, 1)\n",
    "#RGB = color_fa(FA, tenfit.evecs)\n",
    "#nib.save(nib.Nifti1Image(np.array(255 * RGB, 'uint8'), affine), dname+'tensor_rgb.nii.gz')"
   ]
  },
  {
   "cell_type": "markdown",
   "metadata": {},
   "source": [
    "Tracking"
   ]
  },
  {
   "cell_type": "code",
   "execution_count": 20,
   "metadata": {
    "collapsed": false
   },
   "outputs": [],
   "source": [
    "from dipy.direction import peaks_from_model\n",
    "from dipy.data import default_sphere\n",
    "from dipy.data import get_sphere\n",
    "\n",
    "peaks_sphere = get_sphere('symmetric362')\n",
    "\n",
    "ten_peaks = peaks_from_model(tenmodel, data, peaks_sphere,\n",
    "                             relative_peak_threshold=.8,\n",
    "                             min_separation_angle=30,\n",
    "                             mask=mask)"
   ]
  },
  {
   "cell_type": "code",
   "execution_count": 21,
   "metadata": {
    "collapsed": true
   },
   "outputs": [],
   "source": [
    "from dipy.tracking.local import ThresholdTissueClassifier\n",
    "\n",
    "stopping_thr = 0.1\n",
    "\n",
    "classifier = ThresholdTissueClassifier(FA, stopping_thr)"
   ]
  },
  {
   "cell_type": "markdown",
   "metadata": {},
   "source": [
    "Set tracking seed region"
   ]
  },
  {
   "cell_type": "code",
   "execution_count": 22,
   "metadata": {
    "collapsed": false
   },
   "outputs": [],
   "source": [
    "from dipy.tracking import utils\n",
    "\n",
    "seed_density = 2\n",
    "\n",
    "seed_mask = FA > 0.1 #0.4 \n",
    "\n",
    "seeds = utils.seeds_from_mask(\n",
    "    seed_mask,\n",
    "    density=seed_density,\n",
    "    affine=affine)"
   ]
  },
  {
   "cell_type": "code",
   "execution_count": 23,
   "metadata": {
    "collapsed": false
   },
   "outputs": [],
   "source": [
    "from dipy.tracking.local import LocalTracking\n",
    "\n",
    "streamlines = LocalTracking(ten_peaks,classifier,seeds,affine,step_size=0.12,return_all=True) #return_all False, returns only the streamlines that reach another point (no streamline with a length of 0)\n",
    "streamlines = list(streamlines)"
   ]
  },
  {
   "cell_type": "code",
   "execution_count": 24,
   "metadata": {
    "collapsed": true
   },
   "outputs": [],
   "source": [
    "from dipy.io.trackvis import save_trk\n",
    "\n",
    "save_trk(dname+\"tracto_\"+fdwi+\"_modifiedgtab_-2-10.trk\", streamlines, affine, FA.shape)"
   ]
  },
  {
   "cell_type": "code",
   "execution_count": null,
   "metadata": {
    "collapsed": true
   },
   "outputs": [],
   "source": []
  },
  {
   "cell_type": "code",
   "execution_count": null,
   "metadata": {
    "collapsed": true
   },
   "outputs": [],
   "source": []
  },
  {
   "cell_type": "code",
   "execution_count": null,
   "metadata": {
    "collapsed": true
   },
   "outputs": [],
   "source": []
  },
  {
   "cell_type": "code",
   "execution_count": 25,
   "metadata": {
    "collapsed": false
   },
   "outputs": [
    {
     "ename": "ValueError",
     "evalue": "dictionary update sequence element #0 has length 4; 2 is required",
     "output_type": "error",
     "traceback": [
      "\u001b[1;31m---------------------------------------------------------------------------\u001b[0m",
      "\u001b[1;31mValueError\u001b[0m                                Traceback (most recent call last)",
      "\u001b[1;32m<ipython-input-25-80a532e31c15>\u001b[0m in \u001b[0;36m<module>\u001b[1;34m()\u001b[0m\n\u001b[0;32m      2\u001b[0m \u001b[1;32mfrom\u001b[0m \u001b[0mnibabel\u001b[0m\u001b[1;33m.\u001b[0m\u001b[0mstreamlines\u001b[0m \u001b[1;32mimport\u001b[0m \u001b[0mTractogram\u001b[0m\u001b[1;33m\u001b[0m\u001b[0m\n\u001b[0;32m      3\u001b[0m \u001b[1;33m\u001b[0m\u001b[0m\n\u001b[1;32m----> 4\u001b[1;33m \u001b[0msave\u001b[0m\u001b[1;33m(\u001b[0m\u001b[0mTractogram\u001b[0m\u001b[1;33m(\u001b[0m\u001b[0mstreamlines\u001b[0m\u001b[1;33m,\u001b[0m\u001b[0maffine\u001b[0m\u001b[1;33m)\u001b[0m\u001b[1;33m,\u001b[0m\u001b[0mdname\u001b[0m\u001b[1;33m+\u001b[0m\u001b[1;34m\"tracto_gtab_tricked_den_sd_2_peaks08.trk\"\u001b[0m\u001b[1;33m)\u001b[0m\u001b[1;33m\u001b[0m\u001b[0m\n\u001b[0m",
      "\u001b[1;32mC:\\Users\\cdelettre\\Anaconda2\\lib\\site-packages\\nibabel\\streamlines\\tractogram.pyc\u001b[0m in \u001b[0;36m__init__\u001b[1;34m(self, streamlines, data_per_streamline, data_per_point, affine_to_rasmm)\u001b[0m\n\u001b[0;32m    273\u001b[0m         \"\"\"\n\u001b[0;32m    274\u001b[0m         \u001b[0mself\u001b[0m\u001b[1;33m.\u001b[0m\u001b[0m_set_streamlines\u001b[0m\u001b[1;33m(\u001b[0m\u001b[0mstreamlines\u001b[0m\u001b[1;33m)\u001b[0m\u001b[1;33m\u001b[0m\u001b[0m\n\u001b[1;32m--> 275\u001b[1;33m         \u001b[0mself\u001b[0m\u001b[1;33m.\u001b[0m\u001b[0mdata_per_streamline\u001b[0m \u001b[1;33m=\u001b[0m \u001b[0mdata_per_streamline\u001b[0m\u001b[1;33m\u001b[0m\u001b[0m\n\u001b[0m\u001b[0;32m    276\u001b[0m         \u001b[0mself\u001b[0m\u001b[1;33m.\u001b[0m\u001b[0mdata_per_point\u001b[0m \u001b[1;33m=\u001b[0m \u001b[0mdata_per_point\u001b[0m\u001b[1;33m\u001b[0m\u001b[0m\n\u001b[0;32m    277\u001b[0m         \u001b[0mself\u001b[0m\u001b[1;33m.\u001b[0m\u001b[0maffine_to_rasmm\u001b[0m \u001b[1;33m=\u001b[0m \u001b[0maffine_to_rasmm\u001b[0m\u001b[1;33m\u001b[0m\u001b[0m\n",
      "\u001b[1;32mC:\\Users\\cdelettre\\Anaconda2\\lib\\site-packages\\nibabel\\streamlines\\tractogram.pyc\u001b[0m in \u001b[0;36mdata_per_streamline\u001b[1;34m(self, value)\u001b[0m\n\u001b[0;32m    291\u001b[0m     \u001b[1;32mdef\u001b[0m \u001b[0mdata_per_streamline\u001b[0m\u001b[1;33m(\u001b[0m\u001b[0mself\u001b[0m\u001b[1;33m,\u001b[0m \u001b[0mvalue\u001b[0m\u001b[1;33m)\u001b[0m\u001b[1;33m:\u001b[0m\u001b[1;33m\u001b[0m\u001b[0m\n\u001b[0;32m    292\u001b[0m         self._data_per_streamline = PerArrayDict(\n\u001b[1;32m--> 293\u001b[1;33m             len(self.streamlines), {} if value is None else value)\n\u001b[0m\u001b[0;32m    294\u001b[0m \u001b[1;33m\u001b[0m\u001b[0m\n\u001b[0;32m    295\u001b[0m     \u001b[1;33m@\u001b[0m\u001b[0mproperty\u001b[0m\u001b[1;33m\u001b[0m\u001b[0m\n",
      "\u001b[1;32mC:\\Users\\cdelettre\\Anaconda2\\lib\\site-packages\\nibabel\\streamlines\\tractogram.pyc\u001b[0m in \u001b[0;36m__init__\u001b[1;34m(self, n_rows, *args, **kwargs)\u001b[0m\n\u001b[0;32m     93\u001b[0m     \u001b[1;32mdef\u001b[0m \u001b[0m__init__\u001b[0m\u001b[1;33m(\u001b[0m\u001b[0mself\u001b[0m\u001b[1;33m,\u001b[0m \u001b[0mn_rows\u001b[0m\u001b[1;33m=\u001b[0m\u001b[0mNone\u001b[0m\u001b[1;33m,\u001b[0m \u001b[1;33m*\u001b[0m\u001b[0margs\u001b[0m\u001b[1;33m,\u001b[0m \u001b[1;33m**\u001b[0m\u001b[0mkwargs\u001b[0m\u001b[1;33m)\u001b[0m\u001b[1;33m:\u001b[0m\u001b[1;33m\u001b[0m\u001b[0m\n\u001b[0;32m     94\u001b[0m         \u001b[0mself\u001b[0m\u001b[1;33m.\u001b[0m\u001b[0mn_rows\u001b[0m \u001b[1;33m=\u001b[0m \u001b[0mn_rows\u001b[0m\u001b[1;33m\u001b[0m\u001b[0m\n\u001b[1;32m---> 95\u001b[1;33m         \u001b[0msuper\u001b[0m\u001b[1;33m(\u001b[0m\u001b[0mPerArrayDict\u001b[0m\u001b[1;33m,\u001b[0m \u001b[0mself\u001b[0m\u001b[1;33m)\u001b[0m\u001b[1;33m.\u001b[0m\u001b[0m__init__\u001b[0m\u001b[1;33m(\u001b[0m\u001b[1;33m*\u001b[0m\u001b[0margs\u001b[0m\u001b[1;33m,\u001b[0m \u001b[1;33m**\u001b[0m\u001b[0mkwargs\u001b[0m\u001b[1;33m)\u001b[0m\u001b[1;33m\u001b[0m\u001b[0m\n\u001b[0m\u001b[0;32m     96\u001b[0m \u001b[1;33m\u001b[0m\u001b[0m\n\u001b[0;32m     97\u001b[0m     \u001b[1;32mdef\u001b[0m \u001b[0m__setitem__\u001b[0m\u001b[1;33m(\u001b[0m\u001b[0mself\u001b[0m\u001b[1;33m,\u001b[0m \u001b[0mkey\u001b[0m\u001b[1;33m,\u001b[0m \u001b[0mvalue\u001b[0m\u001b[1;33m)\u001b[0m\u001b[1;33m:\u001b[0m\u001b[1;33m\u001b[0m\u001b[0m\n",
      "\u001b[1;32mC:\\Users\\cdelettre\\Anaconda2\\lib\\site-packages\\nibabel\\streamlines\\tractogram.pyc\u001b[0m in \u001b[0;36m__init__\u001b[1;34m(self, *args, **kwargs)\u001b[0m\n\u001b[0;32m     36\u001b[0m     \u001b[1;32mdef\u001b[0m \u001b[0m__init__\u001b[0m\u001b[1;33m(\u001b[0m\u001b[0mself\u001b[0m\u001b[1;33m,\u001b[0m \u001b[1;33m*\u001b[0m\u001b[0margs\u001b[0m\u001b[1;33m,\u001b[0m \u001b[1;33m**\u001b[0m\u001b[0mkwargs\u001b[0m\u001b[1;33m)\u001b[0m\u001b[1;33m:\u001b[0m\u001b[1;33m\u001b[0m\u001b[0m\n\u001b[0;32m     37\u001b[0m         \u001b[0mself\u001b[0m\u001b[1;33m.\u001b[0m\u001b[0mstore\u001b[0m \u001b[1;33m=\u001b[0m \u001b[0mdict\u001b[0m\u001b[1;33m(\u001b[0m\u001b[1;33m)\u001b[0m\u001b[1;33m\u001b[0m\u001b[0m\n\u001b[1;32m---> 38\u001b[1;33m         \u001b[0mself\u001b[0m\u001b[1;33m.\u001b[0m\u001b[0mupdate\u001b[0m\u001b[1;33m(\u001b[0m\u001b[0mdict\u001b[0m\u001b[1;33m(\u001b[0m\u001b[1;33m*\u001b[0m\u001b[0margs\u001b[0m\u001b[1;33m,\u001b[0m \u001b[1;33m**\u001b[0m\u001b[0mkwargs\u001b[0m\u001b[1;33m)\u001b[0m\u001b[1;33m)\u001b[0m\u001b[1;33m\u001b[0m\u001b[0m\n\u001b[0m\u001b[0;32m     39\u001b[0m \u001b[1;33m\u001b[0m\u001b[0m\n\u001b[0;32m     40\u001b[0m     \u001b[1;32mdef\u001b[0m \u001b[0m__getitem__\u001b[0m\u001b[1;33m(\u001b[0m\u001b[0mself\u001b[0m\u001b[1;33m,\u001b[0m \u001b[0mkey\u001b[0m\u001b[1;33m)\u001b[0m\u001b[1;33m:\u001b[0m\u001b[1;33m\u001b[0m\u001b[0m\n",
      "\u001b[1;31mValueError\u001b[0m: dictionary update sequence element #0 has length 4; 2 is required"
     ]
    }
   ],
   "source": [
    "#advised by Saber, not working atm\n",
    "from nibabel.streamlines import save\n",
    "from nibabel.streamlines import Tractogram\n",
    "\n",
    "save(Tractogram(streamlines,affine),dname+\"tracto_gtab_tricked_den_sd_2_peaks08.trk\")"
   ]
  },
  {
   "cell_type": "code",
   "execution_count": null,
   "metadata": {
    "collapsed": true
   },
   "outputs": [],
   "source": []
  }
 ],
 "metadata": {
  "anaconda-cloud": {},
  "kernelspec": {
   "display_name": "Python [conda root]",
   "language": "python",
   "name": "conda-root-py"
  },
  "language_info": {
   "codemirror_mode": {
    "name": "ipython",
    "version": 2
   },
   "file_extension": ".py",
   "mimetype": "text/x-python",
   "name": "python",
   "nbconvert_exporter": "python",
   "pygments_lexer": "ipython2",
   "version": "2.7.12"
  }
 },
 "nbformat": 4,
 "nbformat_minor": 1
}
