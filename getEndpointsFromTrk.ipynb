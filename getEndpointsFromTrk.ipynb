{
 "cells": [
  {
   "cell_type": "code",
   "execution_count": 7,
   "metadata": {
    "collapsed": false
   },
   "outputs": [],
   "source": [
    "pathDesktop = 'C:/Users/cdelettre/Desktop/'\n",
    "\n",
    "subj = 'P8_F10'\n",
    "path = 'C:/Users/cdelettre/Desktop/Ferrets/'+subj+'/'\n",
    "fclust = path+'filteredCentroids.trk'\n",
    "\n",
    "from nibabel import trackvis\n",
    "streams, hdr = trackvis.read(fclust)\n",
    "streamlines = [s[0] for s in streams]"
   ]
  },
  {
   "cell_type": "code",
   "execution_count": 5,
   "metadata": {
    "collapsed": false
   },
   "outputs": [
    {
     "data": {
      "text/plain": [
       "495"
      ]
     },
     "execution_count": 5,
     "metadata": {},
     "output_type": "execute_result"
    }
   ],
   "source": [
    "len(streamlines)"
   ]
  },
  {
   "cell_type": "code",
   "execution_count": 8,
   "metadata": {
    "collapsed": false
   },
   "outputs": [
    {
     "name": "stdout",
     "output_type": "stream",
     "text": [
      "990\n"
     ]
    }
   ],
   "source": [
    "endpoints=[]\n",
    "i= 0\n",
    "\n",
    "for i in range(len(streamlines)):\n",
    "    stream = streamlines[i]\n",
    "    \n",
    "    endpoints.append(str(stream[0][0])+' '+str(stream[0][1])+' '+str(stream[0][2]))#+' '+str(stream[stream.shape[0]-1][0])+' '+str(stream[stream.shape[0]-1][1])+' '+str(stream[stream.shape[0]-1][2]))\n",
    "    endpoints.append(str(stream[stream.shape[0]-1][0])+' '+str(stream[stream.shape[0]-1][1])+' '+str(stream[stream.shape[0]-1][2]))\n",
    "print(len(endpoints))\n",
    "\n",
    "from pandas import DataFrame\n",
    "df = DataFrame(endpoints)\n",
    "newfilename = subj+'_endpoints.txt'\n",
    "df.to_csv(path+newfilename, index=False, header=False)"
   ]
  },
  {
   "cell_type": "code",
   "execution_count": 9,
   "metadata": {
    "collapsed": false
   },
   "outputs": [
    {
     "name": "stdout",
     "output_type": "stream",
     "text": [
      "990\n"
     ]
    }
   ],
   "source": [
    "endpoints2=[]\n",
    "i= 0\n",
    "\n",
    "#####FLIP YX######\n",
    "\n",
    "for i in range(len(streamlines)):\n",
    "    stream = streamlines[i]\n",
    "    \n",
    "    endpoints2.append(str(stream[0][1])+' '+str(stream[0][0])+' '+str(stream[0][2]))#+' '+str(stream[stream.shape[0]-1][0])+' '+str(stream[stream.shape[0]-1][1])+' '+str(stream[stream.shape[0]-1][2]))\n",
    "    endpoints2.append(str(stream[stream.shape[0]-1][1])+' '+str(stream[stream.shape[0]-1][0])+' '+str(stream[stream.shape[0]-1][2]))\n",
    "print(len(endpoints2))\n",
    "\n",
    "from pandas import DataFrame\n",
    "df2 = DataFrame(endpoints2)\n",
    "newfilename2 = subj+'_endpoints_flipYX.txt'\n",
    "df2.to_csv(path+newfilename2, index=False, header=False)"
   ]
  },
  {
   "cell_type": "code",
   "execution_count": 10,
   "metadata": {
    "collapsed": false
   },
   "outputs": [
    {
     "name": "stdout",
     "output_type": "stream",
     "text": [
      "495\n"
     ]
    }
   ],
   "source": [
    "### endpoints by pairs\n",
    "\n",
    "endpoints3=[]\n",
    "i= 0\n",
    "\n",
    "for i in range(len(streamlines)):\n",
    "    stream = streamlines[i]\n",
    "    \n",
    "    endpoints3.append(str(stream[0][0])+' '+str(stream[0][1])+' '+str(stream[0][2])+' '+str(stream[stream.shape[0]-1][0])+' '+str(stream[stream.shape[0]-1][1])+' '+str(stream[stream.shape[0]-1][2]))\n",
    "    #endpoints3.append(str(stream[stream.shape[0]-1][0])+' '+str(stream[stream.shape[0]-1][1])+' '+str(stream[stream.shape[0]-1][2]))\n",
    "print(len(endpoints3))\n",
    "\n",
    "from pandas import DataFrame\n",
    "df3 = DataFrame(endpoints3)\n",
    "newfilename = subj+'_full_endpoints_pairs.txt'\n",
    "df3.to_csv(path+newfilename, index=False, header=False)"
   ]
  },
  {
   "cell_type": "code",
   "execution_count": 3,
   "metadata": {
    "collapsed": true
   },
   "outputs": [],
   "source": []
  },
  {
   "cell_type": "code",
   "execution_count": null,
   "metadata": {
    "collapsed": true
   },
   "outputs": [],
   "source": []
  }
 ],
 "metadata": {
  "anaconda-cloud": {},
  "kernelspec": {
   "display_name": "Python [conda root]",
   "language": "python",
   "name": "conda-root-py"
  },
  "language_info": {
   "codemirror_mode": {
    "name": "ipython",
    "version": 2
   },
   "file_extension": ".py",
   "mimetype": "text/x-python",
   "name": "python",
   "nbconvert_exporter": "python",
   "pygments_lexer": "ipython2",
   "version": "2.7.12"
  }
 },
 "nbformat": 4,
 "nbformat_minor": 1
}
