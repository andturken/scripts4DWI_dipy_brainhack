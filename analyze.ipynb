{
 "cells": [
  {
   "cell_type": "markdown",
   "metadata": {},
   "source": [
    "### Load trk file, filter on streamline length, cluster, filter on cluster size"
   ]
  },
  {
   "cell_type": "code",
   "execution_count": 1,
   "metadata": {
    "collapsed": true
   },
   "outputs": [],
   "source": [
    "def process(ftrk,ffa,fdwi):\n",
    "    import postprocessing4ExploreDTIdata as p\n",
    "    from common import save_trk_old_style\n",
    "    \n",
    "    fa,affine,data,streamlines = p.importData(ftrk,ffa,fdwi)\n",
    "    new_streamlines = p.filterLength(streamlines, 2.5)\n",
    "    clusters = p.computeQuickBundles(new_streamlines,1.)\n",
    "    new2_streamlines = p.filterSmallBundles(new_streamlines,clusters,10)\n",
    "    new_clusters = p.computeQuickBundles(new2_streamlines,1.)\n",
    "    new_lengths = p.getLengths(new2_streamlines)\n",
    "    fnew_centroidtractogram = dname + 'centroidtractogram.trk'\n",
    "    save_trk_old_style(fnew_centroidtractogram, new_clusters.centroids, affine, fa.shape)\n",
    "    fnew_tractogram = dname + 'filteredtractogram.trk'\n",
    "    save_trk_old_style(fnew_tractogram, new2_streamlines, affine, fa.shape)\n",
    "    \n",
    "    return (new2_streamlines,new_clusters,new_lengths)"
   ]
  },
  {
   "cell_type": "markdown",
   "metadata": {},
   "source": [
    "### Print info on the number of streamlines, bundles and min and max length"
   ]
  },
  {
   "cell_type": "code",
   "execution_count": 2,
   "metadata": {
    "collapsed": true
   },
   "outputs": [],
   "source": [
    "def getData4Analyses(streamlines,clusters,lengths):\n",
    "    print('Nb. streamlines, Nb. Bundles, Min length, Max length')\n",
    "    print len(streamlines),len(clusters),min(lengths),max(lengths)"
   ]
  },
  {
   "cell_type": "markdown",
   "metadata": {},
   "source": [
    "### Loop over the previous functions for all the subjects"
   ]
  },
  {
   "cell_type": "code",
   "execution_count": 3,
   "metadata": {
    "collapsed": false
   },
   "outputs": [
    {
     "name": "stdout",
     "output_type": "stream",
     "text": [
      "P2_F25\n",
      "Nb. streamlines, Nb. Bundles, Min length, Max length\n",
      "13943 324 2.52 27.84\n"
     ]
    }
   ],
   "source": [
    "#subjects = ['P2_F25','P2_F28','P4_F07','P8_F10','P16_F21','P32_F16','P32_F17','P32_F19','P64_F01','P64_F22']\n",
    "subjects =['P2_F25']#,'P8_F10']\n",
    "\n",
    "for i in range(len(subjects)):\n",
    "    dname = '/Volumes/Samsung_T1/dti/ExploreDTI/'+subjects[i]+'/'\n",
    "    ftrk = dname + '2dseq_conv_MD_C_native_Tracts_DTI.trk'\n",
    "    ffa = dname + '2dseq_conv_MD_C_native_FA.nii.gz'\n",
    "    fdwi = dname + '2dseq_conv.nii'\n",
    "    print subjects[i]\n",
    "    new2_streamlines,new_clusters,new_lengths = process(ftrk,ffa,fdwi)\n",
    "    \n",
    "    f = open(dname+'streamlinesLength.txt', 'w')\n",
    "    getData4Analyses(new2_streamlines,new_clusters,new_lengths)\n",
    "    for item in new_lengths:\n",
    "        f.write(\"%s\\n\" % item)"
   ]
  },
  {
   "cell_type": "markdown",
   "metadata": {},
   "source": [
    "### Get histogram values of the distribution of streamline length"
   ]
  },
  {
   "cell_type": "code",
   "execution_count": 4,
   "metadata": {
    "collapsed": false
   },
   "outputs": [],
   "source": [
    "def getHistBins (tab, nbins, mini, maxi):\n",
    "    stepSize = (maxi-mini)/nbins\n",
    "    #print stepSize\n",
    "    print 'minBinVal maxBinVal nbStreamlines'\n",
    "    for n in range(nbins):\n",
    "        j = 0\n",
    "        for i in tab:\n",
    "            if (i > (mini+n*stepSize)) & (i <(mini+(n+1)*stepSize)):\n",
    "                j = j+1\n",
    "        print mini+n*stepSize, mini+(n+1)*stepSize, j\n",
    "        "
   ]
  },
  {
   "cell_type": "code",
   "execution_count": 5,
   "metadata": {
    "collapsed": false
   },
   "outputs": [
    {
     "name": "stdout",
     "output_type": "stream",
     "text": [
      "minBinVal maxBinVal nbStreamlines\n",
      "2.5 9.75 12716\n",
      "9.75 17.0 1082\n",
      "17.0 24.25 126\n",
      "24.25 31.5 19\n",
      "31.5 38.75 0\n",
      "38.75 46.0 0\n",
      "46.0 53.25 0\n",
      "53.25 60.5 0\n",
      "60.5 67.75 0\n",
      "67.75 75.0 0\n"
     ]
    }
   ],
   "source": [
    "getHistBins(new_lengths, 10, 2.5, 75)"
   ]
  },
  {
   "cell_type": "markdown",
   "metadata": {},
   "source": [
    "### Import length file"
   ]
  },
  {
   "cell_type": "code",
   "execution_count": 8,
   "metadata": {
    "collapsed": true
   },
   "outputs": [],
   "source": [
    "def importLengthFile(dname):\n",
    "    tab = []\n",
    "\n",
    "    with open(dname+'streamlinesLength_col.txt', 'rb') as f:\n",
    "        reader = csv.reader(f)\n",
    "        tab = list(reader)\n",
    "\n",
    "    for n in range(len(tab)):\n",
    "        tab[n] = float(tab[n][0])\n",
    "\n",
    "    print(subjects[i])\n",
    "    #print tab[:10]\n",
    "    tab.sort()\n",
    "    #print tab[:10]\n",
    "    return tab"
   ]
  },
  {
   "cell_type": "markdown",
   "metadata": {},
   "source": [
    "### Get information on the distribution of streamlines in the first and last quantile of the size thr"
   ]
  },
  {
   "cell_type": "code",
   "execution_count": 6,
   "metadata": {
    "collapsed": false
   },
   "outputs": [],
   "source": [
    "def lengthQuantiles (tab, thr):\n",
    "    import numpy as np\n",
    "    \n",
    "    first_quantile = max(tab)*thr\n",
    "    last_quantile = max(tab)*(1-thr)\n",
    "\n",
    "    n_first = 0\n",
    "    n_last = 0\n",
    "    firstQ = []\n",
    "    lastQ = []\n",
    "    for t in range(len(tab)):\n",
    "        if tab[t] < first_quantile:\n",
    "            n_first=n_first+1\n",
    "            firstQ.append(tab[t])\n",
    "        else :    \n",
    "            if tab[t] > last_quantile:\n",
    "                n_last=n_last+1\n",
    "                lastQ.append(tab[t])\n",
    "    \n",
    "    median_firstQ = np.median(firstQ)\n",
    "    median_lastQ = np.median(lastQ)\n",
    "    print 'min','max','first_quantile','last_quantile','n_first','n_last','median_firstQ','median_lastQ','medianQ_ratio'\n",
    "    print min(tab),max(tab),first_quantile,last_quantile,n_first,n_last, median_firstQ,median_lastQ, median_lastQ/median_firstQ"
   ]
  },
  {
   "cell_type": "code",
   "execution_count": 9,
   "metadata": {
    "collapsed": false
   },
   "outputs": [
    {
     "name": "stdout",
     "output_type": "stream",
     "text": [
      "P2_F25\n",
      "13943\n",
      "min max first_quantile last_quantile n_first n_last median_firstQ median_lastQ medianQ_ratio\n",
      "2.52 27.84 8.352 19.488 11754 86 4.32 21.54 4.98611111111\n"
     ]
    }
   ],
   "source": [
    "import csv\n",
    "\n",
    "#subjects = ['P2_F25','P2_F28','P4_F07','P8_F10','P16_F21','P32_F16','P32_F17','P32_F19','P64_F01','P64_F22']\n",
    "subjects =['P2_F25']\n",
    "\n",
    "for i in range(len(subjects)):\n",
    "    dname = '/Volumes/Samsung_T1/dti/ExploreDTI/'+subjects[i]+'/'\n",
    "    \n",
    "    tab = importLengthFile(dname)\n",
    "    \n",
    "    print len(tab)\n",
    "    \n",
    "    lengthQuantiles(tab,0.3)\n",
    "    \n",
    "    #getHistBins(tab, 10, 2.5, 50)"
   ]
  },
  {
   "cell_type": "code",
   "execution_count": null,
   "metadata": {
    "collapsed": true
   },
   "outputs": [],
   "source": []
  }
 ],
 "metadata": {
  "kernelspec": {
   "display_name": "Python 2",
   "language": "python",
   "name": "python2"
  },
  "language_info": {
   "codemirror_mode": {
    "name": "ipython",
    "version": 2
   },
   "file_extension": ".py",
   "mimetype": "text/x-python",
   "name": "python",
   "nbconvert_exporter": "python",
   "pygments_lexer": "ipython2",
   "version": "2.7.11"
  }
 },
 "nbformat": 4,
 "nbformat_minor": 0
}
