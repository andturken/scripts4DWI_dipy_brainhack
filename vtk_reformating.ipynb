{
 "cells": [
  {
   "cell_type": "code",
   "execution_count": null,
   "metadata": {
    "collapsed": true
   },
   "outputs": [],
   "source": [
    "### V1, 15.12.2016, Celine ###\n",
    "####### Reformats the unformalized vtk files. One vertex per line (x,y,z) #######\n",
    "####### Enables the easy use of the script vtk_rw.py from juhuntenberg (Github) to read the vtk files from python #######"
   ]
  },
  {
   "cell_type": "code",
   "execution_count": 1,
   "metadata": {
    "collapsed": true
   },
   "outputs": [],
   "source": [
    "%matplotlib inline\n",
    "import re #regular expression\n",
    "from pandas import DataFrame"
   ]
  },
  {
   "cell_type": "code",
   "execution_count": 2,
   "metadata": {
    "collapsed": false
   },
   "outputs": [],
   "source": [
    "def parse_vtk(path, subjectname, vtkextention):\n",
    "    f = open(path+subjectname+vtkextention,\"r\")\n",
    "\n",
    "    ne = f.next() #read line after the name of the parameter\n",
    "\n",
    "    array = [ne[0:len(ne)-1]] #first line in an array (without carriage return)\n",
    "\n",
    "    poly = 0\n",
    "    for ne in f:\n",
    "        if (re.match(\"[-+]?\\d*\\.\\d+|\\d+\",ne)==None): # while it's not a float\n",
    "            #x1 = ne.split()\n",
    "            if re.match(r'\\n',ne)==None:\n",
    "                array.append(ne[0:len(ne)-1])\n",
    "                if re.match(r'POLYGONS',ne)!=None:\n",
    "                    poly = 1\n",
    "                    #print poly\n",
    "                #ne = f.next()\n",
    "        else:\n",
    "            #if (re.match(\"[-+]?\\d*\\.\\d+|\\d+\",ne)!=None): #while it's a number\n",
    "            #print 'else'\n",
    "            #print ne\n",
    "            if poly == 0:\n",
    "                x2 = ne.split()\n",
    "                #print x2\n",
    "                if len(x2)>3:\n",
    "                    #print 'if'\n",
    "                    i = 0\n",
    "                    while i in range(len(x2)-2):\n",
    "                        #print i\n",
    "                        array.append(x2[i]+' '+x2[i+1]+' '+x2[i+2])\n",
    "                        #array.append('\\n')\n",
    "                        i +=3\n",
    "                #ne = f.next()\n",
    "                else:\n",
    "                    array.append(ne[0:len(ne)-1])\n",
    "            else:\n",
    "                #print poly\n",
    "                array.append(ne[0:len(ne)-1])\n",
    "\n",
    "    #print array\n",
    "\n",
    "    f.close()\n",
    "\n",
    "    df = DataFrame(array)\n",
    "\n",
    "    #print df\n",
    "\n",
    "    newfilename = subjectname+'_parsed'+vtkextention\n",
    "    df.to_csv(path+newfilename, index=False, header=False)"
   ]
  },
  {
   "cell_type": "code",
   "execution_count": 3,
   "metadata": {
    "collapsed": false
   },
   "outputs": [],
   "source": [
    "#Example:\n",
    "\n",
    "path = '/Users/ghfc/Desktop/'\n",
    "subjectname = 'P32_F16'\n",
    "vtkextention = '.vtk'\n",
    "\n",
    "parse_vtk(path, subjectname, vtkextention)"
   ]
  },
  {
   "cell_type": "code",
   "execution_count": 5,
   "metadata": {
    "collapsed": false
   },
   "outputs": [],
   "source": []
  },
  {
   "cell_type": "code",
   "execution_count": 7,
   "metadata": {
    "collapsed": false
   },
   "outputs": [],
   "source": []
  },
  {
   "cell_type": "code",
   "execution_count": 78,
   "metadata": {
    "collapsed": true
   },
   "outputs": [],
   "source": []
  }
 ],
 "metadata": {
  "anaconda-cloud": {},
  "kernelspec": {
   "display_name": "Python [default]",
   "language": "python",
   "name": "python2"
  },
  "language_info": {
   "codemirror_mode": {
    "name": "ipython",
    "version": 2
   },
   "file_extension": ".py",
   "mimetype": "text/x-python",
   "name": "python",
   "nbconvert_exporter": "python",
   "pygments_lexer": "ipython2",
   "version": "2.7.12"
  }
 },
 "nbformat": 4,
 "nbformat_minor": 1
}
