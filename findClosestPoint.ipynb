{
 "cells": [
  {
   "cell_type": "code",
   "execution_count": 1,
   "metadata": {
    "collapsed": true
   },
   "outputs": [],
   "source": [
    "import numpy"
   ]
  },
  {
   "cell_type": "code",
   "execution_count": null,
   "metadata": {
    "collapsed": true
   },
   "outputs": [],
   "source": [
    "def getClosest(tpoint1,tpoint2,tpoint3,point):\n",
    "    "
   ]
  },
  {
   "cell_type": "code",
   "execution_count": null,
   "metadata": {
    "collapsed": true
   },
   "outputs": [],
   "source": []
  },
  {
   "cell_type": "code",
   "execution_count": 2,
   "metadata": {
    "collapsed": true
   },
   "outputs": [],
   "source": [
    "# Open mesh in ply format\n",
    "def open_ply(filepath):\n",
    "    f=open(filepath,'r');\n",
    "    i=0;\n",
    "    ip=0;\n",
    "    it=0;\n",
    "    np=0;\n",
    "    nt=0;\n",
    "    for str in f:\n",
    "        i+=1;\n",
    "        arr=str.split(\" \");\n",
    "        if(arr[0]==\"element\" and arr[1]==\"vertex\"):\n",
    "            np=int(arr[2]);\n",
    "            p=numpy.zeros((np,3));\n",
    "        elif(arr[0]==\"element\" and arr[1]==\"face\"):\n",
    "            nt=int(arr[2]);\n",
    "            t=numpy.zeros((nt,3));\n",
    "        elif(i>=11 and i<11+np):\n",
    "            p[ip,0]=float(arr[0]);\n",
    "            p[ip,1]=float(arr[1]);\n",
    "            p[ip,2]=float(arr[2]);\n",
    "            ip+=1;\n",
    "        elif(i>=11+np and i<11+np+nt):\n",
    "            t[it,0]=int(arr[1]);\n",
    "            t[it,1]=int(arr[2]);\n",
    "            t[it,2]=int(arr[3]);\n",
    "            it+=1;\n",
    "    mesh={};\n",
    "    mesh[\"np\"]=np;\n",
    "    mesh[\"nt\"]=nt;\n",
    "    mesh[\"p\"]=p;\n",
    "    mesh[\"t\"]=t;\n",
    "    return mesh;"
   ]
  },
  {
   "cell_type": "code",
   "execution_count": 3,
   "metadata": {
    "collapsed": false
   },
   "outputs": [],
   "source": [
    "path = '/Users/ghfc/Desktop/'\n",
    "fmesh = path+'P8_F10_mesh.ply'\n",
    "mesh = open_ply(fmesh)\n",
    "np=mesh[\"np\"];\n",
    "nt=mesh[\"nt\"];\n",
    "p=mesh[\"p\"];\n",
    "t=mesh[\"t\"];"
   ]
  },
  {
   "cell_type": "code",
   "execution_count": 4,
   "metadata": {
    "collapsed": false
   },
   "outputs": [
    {
     "ename": "ImportError",
     "evalue": "No module named pyoctree",
     "output_type": "error",
     "traceback": [
      "\u001b[0;31m---------------------------------------------------------------------------\u001b[0m",
      "\u001b[0;31mImportError\u001b[0m                               Traceback (most recent call last)",
      "\u001b[0;32m<ipython-input-4-765559ac5824>\u001b[0m in \u001b[0;36m<module>\u001b[0;34m()\u001b[0m\n\u001b[0;32m----> 1\u001b[0;31m \u001b[0;32mfrom\u001b[0m \u001b[0mpyoctree\u001b[0m \u001b[0;32mimport\u001b[0m \u001b[0mpyoctree\u001b[0m \u001b[0;32mas\u001b[0m \u001b[0mot\u001b[0m\u001b[0;34m\u001b[0m\u001b[0m\n\u001b[0m\u001b[1;32m      2\u001b[0m \u001b[0mtree\u001b[0m \u001b[0;34m=\u001b[0m \u001b[0mot\u001b[0m\u001b[0;34m.\u001b[0m\u001b[0mPyOctree\u001b[0m\u001b[0;34m(\u001b[0m\u001b[0mp\u001b[0m\u001b[0;34m,\u001b[0m\u001b[0mt\u001b[0m\u001b[0;34m)\u001b[0m\u001b[0;34m\u001b[0m\u001b[0m\n",
      "\u001b[0;31mImportError\u001b[0m: No module named pyoctree"
     ]
    }
   ],
   "source": [
    "from pyoctree import pyoctree as ot\n",
    "tree = ot.PyOctree(p,t)"
   ]
  },
  {
   "cell_type": "code",
   "execution_count": null,
   "metadata": {
    "collapsed": true
   },
   "outputs": [],
   "source": []
  }
 ],
 "metadata": {
  "anaconda-cloud": {},
  "kernelspec": {
   "display_name": "Python [conda root]",
   "language": "python",
   "name": "conda-root-py"
  },
  "language_info": {
   "codemirror_mode": {
    "name": "ipython",
    "version": 2
   },
   "file_extension": ".py",
   "mimetype": "text/x-python",
   "name": "python",
   "nbconvert_exporter": "python",
   "pygments_lexer": "ipython2",
   "version": "2.7.12"
  }
 },
 "nbformat": 4,
 "nbformat_minor": 1
}
