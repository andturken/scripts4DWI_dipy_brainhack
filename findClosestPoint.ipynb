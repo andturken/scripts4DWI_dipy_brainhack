{
 "cells": [
  {
   "cell_type": "markdown",
   "metadata": {},
   "source": [
    "https://pypi.python.org/pypi/pyoctree"
   ]
  },
  {
   "cell_type": "code",
   "execution_count": 1,
   "metadata": {
    "collapsed": false
   },
   "outputs": [],
   "source": [
    "import numpy as np\n",
    "import vtk"
   ]
  },
  {
   "cell_type": "code",
   "execution_count": null,
   "metadata": {
    "collapsed": true
   },
   "outputs": [],
   "source": []
  },
  {
   "cell_type": "code",
   "execution_count": 2,
   "metadata": {
    "collapsed": true
   },
   "outputs": [],
   "source": [
    "# Open mesh in ply format\n",
    "def open_ply(filepath):\n",
    "    import numpy\n",
    "    f=open(filepath,'r');\n",
    "    i=0;\n",
    "    ip=0;\n",
    "    it=0;\n",
    "    np=0;\n",
    "    nt=0;\n",
    "    for str in f:\n",
    "        i+=1;\n",
    "        arr=str.split(\" \");\n",
    "        if(arr[0]==\"element\" and arr[1]==\"vertex\"):\n",
    "            np=int(arr[2]);\n",
    "            p=numpy.zeros((np,3));\n",
    "        elif(arr[0]==\"element\" and arr[1]==\"face\"):\n",
    "            nt=int(arr[2]);\n",
    "            t=numpy.zeros((nt,3));\n",
    "        elif(i>=11 and i<11+np):\n",
    "            p[ip,0]=float(arr[0]);\n",
    "            p[ip,1]=float(arr[1]);\n",
    "            p[ip,2]=float(arr[2]);\n",
    "            ip+=1;\n",
    "        elif(i>=11+np and i<11+np+nt):\n",
    "            t[it,0]=int(arr[1]);\n",
    "            t[it,1]=int(arr[2]);\n",
    "            t[it,2]=int(arr[3]);\n",
    "            it+=1;\n",
    "    mesh={};\n",
    "    mesh[\"np\"]=np;\n",
    "    mesh[\"nt\"]=nt;\n",
    "    mesh[\"p\"]=p;\n",
    "    mesh[\"t\"]=t;\n",
    "    return mesh;"
   ]
  },
  {
   "cell_type": "code",
   "execution_count": 3,
   "metadata": {
    "collapsed": false
   },
   "outputs": [],
   "source": [
    "def findClosestNode(ep,tree):\n",
    "    import scipy.spatial.distance as spdist    \n",
    "    d_min = 100\n",
    "    nid_min = -1\n",
    "    #print 'ep',ep\n",
    "    #for ep in endpoints:\n",
    "    for j in range(len(tree.root.branches)):\n",
    "        b = tree.root.branches[j]\n",
    "        b_pos = b.position\n",
    "        #print b_pos\n",
    "        d = spdist.euclidean(b_pos,ep)\n",
    "        #print d\n",
    "        if d<=d_min :\n",
    "            d_min = d\n",
    "            nid_min = b.nid\n",
    "    #print d_min,nid_min\n",
    "\n",
    "    node_min = tree.getNodeFromId(nid_min)\n",
    "    node_curr = node_min\n",
    "    d_curr = 100\n",
    "    nid_curr = -1\n",
    "    while(not node_min.isLeaf):\n",
    "        for j in node_min.branches:\n",
    "            #b = tree.root.branches[j]\n",
    "            b_pos = j.position\n",
    "            #print b_pos\n",
    "            d = spdist.euclidean(b_pos,ep)\n",
    "            #print 'newly computed distance',d\n",
    "            if (d<=d_curr) and not(j.isLeaf and not j.polyList) :\n",
    "                #print 'new shorter distance than',d_curr\n",
    "                d_curr = d\n",
    "                nid_curr = j.nid\n",
    "                node_curr = tree.getNodeFromId(nid_curr)\n",
    "        #print 'current shortest distance and its node',d_curr,node_curr\n",
    "        if (not node_min.polyList):\n",
    "            #print 'no poly'\n",
    "            d_min = d_curr\n",
    "            nid_min = nid_curr\n",
    "            node_min = node_curr\n",
    "            d_curr = 100\n",
    "            nid_curr = -1\n",
    "        elif (node_curr == node_min) and (node_min.polyList):\n",
    "            #print 'equal & poly'\n",
    "            break\n",
    "    \n",
    "    #print d_min,nid_min\n",
    "    return d_min,nid_min\n"
   ]
  },
  {
   "cell_type": "code",
   "execution_count": 4,
   "metadata": {
    "collapsed": false
   },
   "outputs": [],
   "source": [
    "# Normal of triangle a,b,c\n",
    "def normal(a,b,c):\n",
    "    v=np.cross(b-a,c-a)\n",
    "    n=v/np.linalg.norm(v)\n",
    "    return n;"
   ]
  },
  {
   "cell_type": "code",
   "execution_count": 41,
   "metadata": {
    "collapsed": false
   },
   "outputs": [],
   "source": [
    "def findClosestPoint(ep, mesh):\n",
    "    import scipy.spatial.distance as spdist\n",
    "#read mesh\n",
    "    npt=mesh[\"np\"];\n",
    "    nt=mesh[\"nt\"];\n",
    "    pt=mesh[\"p\"];\n",
    "    t=mesh[\"t\"];\n",
    "    \n",
    "#create tree\n",
    "    t=t.astype(dtype=np.int32)\n",
    "\n",
    "    from pyoctree import pyoctree as ot\n",
    "    tree = ot.PyOctree(pt,t)\n",
    "\n",
    "# Print out basic Octree data\n",
    "    #print \"Size of Octree               = %.3fmm\" % tree.root.size\n",
    "    #print \"Number of Octnodes in Octree = %d\" % tree.getNumberOfNodes()\n",
    "    #print \"Number of polys in Octree    = %d\" % tree.numPolys\n",
    "    \n",
    "#find clostest node and the triangles in this node\n",
    "    d_node,node_id = findClosestNode(ep,tree)\n",
    "    t_index = tree.getNodeFromId(node_id).polyList\n",
    "\n",
    "#look for the closest node within the preselected list of vertices\n",
    "    n=np.zeros((len(t_index),3));\n",
    "\n",
    "    # same normal for all the points of a triangle, \n",
    "    #no influence of the neighboring triangle \n",
    "    #and could be duplicated points with different normals\n",
    "\n",
    "    for j in range(len(t_index)):\n",
    "        i = t_index[j]\n",
    "        nn=normal(pt[t[i,0]],pt[t[i,1]],pt[t[i,2]]);\n",
    "        n[j,0]=nn[0]; \n",
    "        n[j,1]=nn[1];\n",
    "        n[j,2]=nn[2];\n",
    "\n",
    "    d = 1000000\n",
    "\n",
    "    for i in range(len(t_index)):\n",
    "        for k in range(3):\n",
    "            v = ep - pt[t[i,k]] #distance to the normal of the triangle\n",
    "            d1 = np.absolute(np.dot(v, n[i]))\n",
    "\n",
    "            #d1 = spdist.euclidean(ep,pt[t[i,k]]) #euclidean distance point/endpoint\n",
    "\n",
    "            if d1 < d:\n",
    "                d = d1\n",
    "                cp = pt[i]\n",
    "                point = i\n",
    "    #print d,point\n",
    "    return d, point"
   ]
  },
  {
   "cell_type": "code",
   "execution_count": 6,
   "metadata": {
    "collapsed": false
   },
   "outputs": [],
   "source": [
    "pathDesktop = 'C:/Users/cdelettre/Desktop/'\n",
    "\n",
    "subj = 'P8_F10'\n",
    "path = 'C:/Users/cdelettre/Desktop/Ferrets/'+subj+'/'\n",
    "fmesh = path+subj+'_mesh.ply'\n",
    "mesh = open_ply(fmesh)\n",
    "#npt=mesh[\"np\"];\n",
    "#nt=mesh[\"nt\"];\n",
    "#p=mesh[\"p\"];\n",
    "#t=mesh[\"t\"];"
   ]
  },
  {
   "cell_type": "code",
   "execution_count": 7,
   "metadata": {
    "collapsed": false
   },
   "outputs": [],
   "source": [
    "fendpoints = path+'P8_F10_endpoints_adjusted.txt'\n",
    "endpoints = np.loadtxt(fendpoints)"
   ]
  },
  {
   "cell_type": "code",
   "execution_count": 42,
   "metadata": {
    "collapsed": false
   },
   "outputs": [
    {
     "name": "stdout",
     "output_type": "stream",
     "text": [
      "point coordinates: [ 12.60884   13.26452    3.235695]\n",
      "point distance: 2.80029378299 point id: 97\n",
      "\n",
      "\n",
      "point coordinates: [  9.88554   13.01362    2.227335]\n",
      "point distance: 1.40312131593 point id: 95\n",
      "\n",
      "\n",
      "point coordinates: [  7.44064   11.59352    3.015165]\n",
      "point distance: 4.46259202296 point id: 75\n",
      "\n",
      "\n",
      "point coordinates: [  4.70904   10.77582    1.958195]\n",
      "point distance: 5.65998756573 point id: 71\n",
      "\n",
      "\n",
      "point coordinates: [  7.83584   12.71982    4.141665]\n",
      "point distance: 3.76215469847 point id: 95\n",
      "\n",
      "\n",
      "point coordinates: [  5.45824   11.26372    1.902015]\n",
      "point distance: 4.68225859818 point id: 95\n",
      "\n",
      "\n",
      "point coordinates: [  2.38354   10.00502    2.503095]\n",
      "point distance: 7.46650381225 point id: 61\n",
      "\n",
      "\n",
      "point coordinates: [ 5.19964   9.72072   2.121925]\n",
      "point distance: 2.66300715332 point id: 170\n",
      "\n",
      "\n",
      "point coordinates: [ 20.32944    8.68462    1.865145]\n",
      "point distance: 8.1221598744 point id: 73\n",
      "\n",
      "\n",
      "point coordinates: [ 18.26274    8.55192    2.202045]\n",
      "point distance: 6.10564966652 point id: 73\n",
      "\n",
      "\n",
      "duration 2.25699996948\n"
     ]
    }
   ],
   "source": [
    "import time\n",
    "\n",
    "ep_try = endpoints[0:10]\n",
    "printInfos = True\n",
    "\n",
    "ts = time.time()\n",
    "#print 'ts', ts\n",
    "\n",
    "#ep = endpoints[22]\n",
    "for ep in ep_try:\n",
    "    \n",
    "    d_point,point = findClosestPoint(ep,mesh)\n",
    "\n",
    "    if (printInfos):\n",
    "        print 'point coordinates:',ep\n",
    "        #print 'node id:',node_id\n",
    "        #print 'nb of vertices to be checked:',len(t_index)\n",
    "        #print 'node distance:',d_node\n",
    "        print 'point distance:',d_point,'point id:',point\n",
    "        print '\\n'\n",
    "        \n",
    "        \n",
    "te = time.time()\n",
    "#print 'te',te\n",
    "print 'duration',te-ts"
   ]
  },
  {
   "cell_type": "code",
   "execution_count": null,
   "metadata": {
    "collapsed": true
   },
   "outputs": [],
   "source": []
  },
  {
   "cell_type": "markdown",
   "metadata": {},
   "source": [
    "Annex"
   ]
  },
  {
   "cell_type": "code",
   "execution_count": 8,
   "metadata": {
    "collapsed": false
   },
   "outputs": [],
   "source": [
    "t=t.astype(dtype=np.int32)\n",
    "\n",
    "from pyoctree import pyoctree as ot\n",
    "tree = ot.PyOctree(p,t)\n",
    "\n",
    "# Print out basic Octree data\n",
    "print \"Size of Octree               = %.3fmm\" % tree.root.size\n",
    "print \"Number of Octnodes in Octree = %d\" % tree.getNumberOfNodes()\n",
    "print \"Number of polys in Octree    = %d\" % tree.numPolys\n",
    "\n",
    "tree.getOctreeRep()"
   ]
  }
 ],
 "metadata": {
  "anaconda-cloud": {},
  "kernelspec": {
   "display_name": "Python [conda root]",
   "language": "python",
   "name": "conda-root-py"
  },
  "language_info": {
   "codemirror_mode": {
    "name": "ipython",
    "version": 2
   },
   "file_extension": ".py",
   "mimetype": "text/x-python",
   "name": "python",
   "nbconvert_exporter": "python",
   "pygments_lexer": "ipython2",
   "version": "2.7.12"
  }
 },
 "nbformat": 4,
 "nbformat_minor": 1
}
