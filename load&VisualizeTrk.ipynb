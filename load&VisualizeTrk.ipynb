{
 "cells": [
  {
   "cell_type": "code",
   "execution_count": 6,
   "metadata": {
    "collapsed": true
   },
   "outputs": [],
   "source": [
    "import postprocessing4ExploreDTIdata as p\n",
    "from tracking_function import show_results"
   ]
  },
  {
   "cell_type": "code",
   "execution_count": 3,
   "metadata": {
    "collapsed": false
   },
   "outputs": [],
   "source": [
    "dname = '/Volumes/Samsung_T1/dti/ExploreDTI/P64_F01/'\n",
    "ftrk = dname + '2dseq_conv_MD_C_native_Tracts_DTI.trk'\n",
    "ffa = dname + '2dseq_conv_MD_C_native_FA.nii.gz'\n",
    "fdwi = dname + '2dseq_conv.nii'"
   ]
  },
  {
   "cell_type": "code",
   "execution_count": 5,
   "metadata": {
    "collapsed": false
   },
   "outputs": [],
   "source": [
    "fa,affine,data,streamlines = p.importData(ftrk,ffa,fdwi)"
   ]
  },
  {
   "cell_type": "code",
   "execution_count": 8,
   "metadata": {
    "collapsed": false
   },
   "outputs": [],
   "source": [
    "show_results(data,streamlines, fa, affine, opacity=0.6)"
   ]
  }
 ],
 "metadata": {
  "kernelspec": {
   "display_name": "Python 2",
   "language": "python",
   "name": "python2"
  },
  "language_info": {
   "codemirror_mode": {
    "name": "ipython",
    "version": 2
   },
   "file_extension": ".py",
   "mimetype": "text/x-python",
   "name": "python",
   "nbconvert_exporter": "python",
   "pygments_lexer": "ipython2",
   "version": "2.7.11"
  }
 },
 "nbformat": 4,
 "nbformat_minor": 0
}
