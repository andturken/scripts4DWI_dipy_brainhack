{
 "cells": [
  {
   "cell_type": "code",
   "execution_count": 2,
   "metadata": {
    "collapsed": false
   },
   "outputs": [
    {
     "name": "stdout",
     "output_type": "stream",
     "text": [
      "Using matplotlib backend: Qt5Agg\n",
      "Populating the interactive namespace from numpy and matplotlib\n"
     ]
    }
   ],
   "source": [
    "%pylab\n",
    "import numpy as np\n",
    "import nibabel as nib\n",
    "\n",
    "from dipy.io.gradients import read_bvals_bvecs\n",
    "from dipy.core.gradients import gradient_table\n",
    "\n",
    "import dipy.reconst.dti as dti"
   ]
  },
  {
   "cell_type": "markdown",
   "metadata": {},
   "source": [
    "Load files"
   ]
  },
  {
   "cell_type": "code",
   "execution_count": 3,
   "metadata": {
    "collapsed": false
   },
   "outputs": [],
   "source": [
    "subj = 'F25_P2'\n",
    "\n",
    "dname = 'E:/Celine/Ferret_b2n/'+subj+'/'\n",
    "\n",
    "fdwi = dname + subj+'_rot_den.nii.gz' #nii from b2n\n",
    "\n",
    "img = nib.load(fdwi)\n",
    "data = img.get_data()\n",
    "affine = img.affine\n",
    "\n",
    "fbval = dname + 'bvals' \n",
    "fbvec = dname + 'bvecs'\n",
    "\n",
    "bvals, bvecs = read_bvals_bvecs(fbval, fbvec)\n",
    "\n",
    "gtab = gradient_table(bvals, bvecs, b0_threshold=50)\n",
    "\n",
    "fmask = dname + 'mask_to_dwi.nii.gz' "
   ]
  },
  {
   "cell_type": "code",
   "execution_count": 4,
   "metadata": {
    "collapsed": false
   },
   "outputs": [
    {
     "data": {
      "text/plain": [
       "array([[ 0.        ,  0.23999999,  0.        ,  0.        ],\n",
       "       [-0.23984376,  0.        ,  0.        ,  0.        ],\n",
       "       [ 0.        ,  0.        ,  0.23999999,  0.        ],\n",
       "       [ 0.        ,  0.        ,  0.        ,  1.        ]])"
      ]
     },
     "execution_count": 4,
     "metadata": {},
     "output_type": "execute_result"
    }
   ],
   "source": [
    "affine"
   ]
  },
  {
   "cell_type": "markdown",
   "metadata": {},
   "source": [
    "Adjust gradients"
   ]
  },
  {
   "cell_type": "code",
   "execution_count": 5,
   "metadata": {
    "collapsed": false
   },
   "outputs": [],
   "source": [
    "non0bvecs = np.count_nonzero(bvecs[:,0])"
   ]
  },
  {
   "cell_type": "code",
   "execution_count": 6,
   "metadata": {
    "collapsed": false
   },
   "outputs": [],
   "source": [
    "dwi_affine = img.get_sform(False) #get orientation matrix from the nifti"
   ]
  },
  {
   "cell_type": "code",
   "execution_count": 7,
   "metadata": {
    "collapsed": false
   },
   "outputs": [
    {
     "data": {
      "text/plain": [
       "array([[ 0.        ,  0.23999999,  0.        ,  0.        ],\n",
       "       [-0.23984376,  0.        ,  0.        ,  0.        ],\n",
       "       [ 0.        ,  0.        ,  0.23999999,  0.        ],\n",
       "       [ 0.        ,  0.        ,  0.        ,  1.        ]])"
      ]
     },
     "execution_count": 7,
     "metadata": {},
     "output_type": "execute_result"
    }
   ],
   "source": [
    "dwi_affine"
   ]
  },
  {
   "cell_type": "code",
   "execution_count": 8,
   "metadata": {
    "collapsed": false
   },
   "outputs": [],
   "source": [
    "dwi_affine_tricked = dwi_affine[:,[2,1,0,3]]  #swap 1st and 3rd axis"
   ]
  },
  {
   "cell_type": "code",
   "execution_count": 9,
   "metadata": {
    "collapsed": true
   },
   "outputs": [],
   "source": [
    "dwi_affine_tricked[:,0] *= -1  # flip 1st and 2nd axis\n",
    "dwi_affine_tricked[:,1] *= -1\n",
    "dwi_affine_tricked[:,2] *= 1"
   ]
  },
  {
   "cell_type": "code",
   "execution_count": 10,
   "metadata": {
    "collapsed": false
   },
   "outputs": [],
   "source": [
    "dwi_affine_again = np.tile([dwi_affine_tricked],(non0bvecs,1,1))"
   ]
  },
  {
   "cell_type": "code",
   "execution_count": 11,
   "metadata": {
    "collapsed": false
   },
   "outputs": [
    {
     "data": {
      "text/plain": [
       "array([[-0.        , -0.23999999,  0.        ,  0.        ],\n",
       "       [-0.        , -0.        , -0.23984376,  0.        ],\n",
       "       [-0.23999999, -0.        ,  0.        ,  0.        ],\n",
       "       [-0.        , -0.        ,  0.        ,  1.        ]])"
      ]
     },
     "execution_count": 11,
     "metadata": {},
     "output_type": "execute_result"
    }
   ],
   "source": [
    "dwi_affine_tricked"
   ]
  },
  {
   "cell_type": "code",
   "execution_count": 9,
   "metadata": {
    "collapsed": false
   },
   "outputs": [],
   "source": [
    "from dipy.core.gradients import reorient_bvecs\n",
    "gtab_new = reorient_bvecs(gtab,dwi_affine_again)"
   ]
  },
  {
   "cell_type": "markdown",
   "metadata": {},
   "source": [
    "Load or create mask"
   ]
  },
  {
   "cell_type": "code",
   "execution_count": 10,
   "metadata": {
    "collapsed": false
   },
   "outputs": [
    {
     "name": "stderr",
     "output_type": "stream",
     "text": [
      "C:\\Users\\cdelettre\\Anaconda2\\lib\\site-packages\\skimage\\filter\\__init__.py:6: skimage_deprecation: The `skimage.filter` module has been renamed to `skimage.filters`.  This placeholder module will be removed in v0.13.\n",
      "  warn(skimage_deprecation('The `skimage.filter` module has been renamed '\n"
     ]
    }
   ],
   "source": [
    "try:\n",
    "    from dipy.segment.mask import applymask\n",
    "    mask_img = nib.load(fmask)\n",
    "    mask = mask_img.get_data()\n",
    "    mask[mask>1] =1 #binarize\n",
    "    maskdata = applymask(data,mask)\n",
    "except IOError:\n",
    "    print \"Cannot open \",fmask,\"\\n will generate an automated mask using median_otsu from Dipy\"\n",
    "\n",
    "    from dipy.segment.mask import median_otsu\n",
    "    maskdata, mask = median_otsu(data, 3, 1, False, dilate=2 ) #crop:removes the contours, changes coordinates"
   ]
  },
  {
   "cell_type": "markdown",
   "metadata": {},
   "source": [
    "Create and fit tensor model (DTI)"
   ]
  },
  {
   "cell_type": "code",
   "execution_count": 11,
   "metadata": {
    "collapsed": true
   },
   "outputs": [],
   "source": [
    "tenmodel = dti.TensorModel(gtab_new)  ### gtab_new if gradients modified"
   ]
  },
  {
   "cell_type": "code",
   "execution_count": 12,
   "metadata": {
    "collapsed": true
   },
   "outputs": [],
   "source": [
    "tenfit = tenmodel.fit(maskdata)"
   ]
  },
  {
   "cell_type": "markdown",
   "metadata": {},
   "source": [
    "Compute FA, MD, RGB"
   ]
  },
  {
   "cell_type": "code",
   "execution_count": 13,
   "metadata": {
    "collapsed": false
   },
   "outputs": [],
   "source": [
    "#print('Computing anisotropy measures (FA, MD, RGB)')\n",
    "from dipy.reconst.dti import fractional_anisotropy, color_fa, lower_triangular\n",
    "\n",
    "FA = fractional_anisotropy(tenfit.evals)"
   ]
  },
  {
   "cell_type": "code",
   "execution_count": 14,
   "metadata": {
    "collapsed": true
   },
   "outputs": [],
   "source": [
    "FA[np.isnan(FA)] = 0"
   ]
  },
  {
   "cell_type": "code",
   "execution_count": 15,
   "metadata": {
    "collapsed": false
   },
   "outputs": [],
   "source": [
    "fa_img = nib.Nifti1Image(FA.astype(np.float32), affine) #img.affine\n",
    "nib.save(fa_img, dname+'tensor_fa_sd_2.nii.gz')"
   ]
  },
  {
   "cell_type": "code",
   "execution_count": 16,
   "metadata": {
    "collapsed": false
   },
   "outputs": [],
   "source": [
    "#MD1 = dti.mean_diffusivity(tenfit.evals)\n",
    "#nib.save(nib.Nifti1Image(MD1.astype(np.float32), affine), dname+'tensors_md.nii.gz')"
   ]
  },
  {
   "cell_type": "code",
   "execution_count": 17,
   "metadata": {
    "collapsed": true
   },
   "outputs": [],
   "source": [
    "#FA = np.clip(FA, 0, 1)\n",
    "#RGB = color_fa(FA, tenfit.evecs)\n",
    "#nib.save(nib.Nifti1Image(np.array(255 * RGB, 'uint8'), affine), dname+'tensor_rgb.nii.gz')"
   ]
  },
  {
   "cell_type": "markdown",
   "metadata": {},
   "source": [
    "Tracking"
   ]
  },
  {
   "cell_type": "code",
   "execution_count": 16,
   "metadata": {
    "collapsed": false
   },
   "outputs": [],
   "source": [
    "from dipy.direction import peaks_from_model\n",
    "from dipy.data import default_sphere\n",
    "from dipy.data import get_sphere\n",
    "\n",
    "peaks_sphere = get_sphere('symmetric362')\n",
    "\n",
    "ten_peaks = peaks_from_model(tenmodel, data, peaks_sphere,\n",
    "                             relative_peak_threshold=.8,\n",
    "                             min_separation_angle=30,\n",
    "                             mask=mask)"
   ]
  },
  {
   "cell_type": "code",
   "execution_count": 17,
   "metadata": {
    "collapsed": true
   },
   "outputs": [],
   "source": [
    "from dipy.tracking.local import ThresholdTissueClassifier\n",
    "\n",
    "stopping_thr = 0.1\n",
    "\n",
    "classifier = ThresholdTissueClassifier(FA, stopping_thr)"
   ]
  },
  {
   "cell_type": "markdown",
   "metadata": {},
   "source": [
    "Set tracking seed region"
   ]
  },
  {
   "cell_type": "code",
   "execution_count": 18,
   "metadata": {
    "collapsed": false
   },
   "outputs": [],
   "source": [
    "from dipy.tracking import utils\n",
    "\n",
    "seed_density = 2\n",
    "\n",
    "seed_mask = FA > 0.1 #0.4 \n",
    "\n",
    "seeds = utils.seeds_from_mask(\n",
    "    seed_mask,\n",
    "    density=seed_density,\n",
    "    affine=affine)"
   ]
  },
  {
   "cell_type": "code",
   "execution_count": 19,
   "metadata": {
    "collapsed": true
   },
   "outputs": [],
   "source": [
    "from dipy.tracking.local import LocalTracking\n",
    "\n",
    "streamlines = LocalTracking(ten_peaks,classifier,seeds,affine,step_size=0.12)\n",
    "streamlines = list(streamlines)"
   ]
  },
  {
   "cell_type": "code",
   "execution_count": 21,
   "metadata": {
    "collapsed": false
   },
   "outputs": [],
   "source": [
    "#from dipy.viz.colormap import line_colors\n",
    "#from dipy.viz import fvtk\n",
    "\n",
    "#color = line_colors(streamlines)\n",
    "\n",
    "#if fvtk.have_vtk:\n",
    "#    streamlines_actor = fvtk.line(streamlines, line_colors(streamlines))\n",
    "\n",
    "#    # Create the 3d display.\n",
    "#    r = fvtk.ren()\n",
    "#    fvtk.add(r, streamlines_actor)\n",
    "\n",
    "#    # Save still images for this static example. Or for interactivity use\n",
    "#    #vtk.show\n",
    "#    fvtk.record(r, n_frames=1, out_path=dname+'deterministic_sd_2_peak08.png',\n",
    "#                size=(800, 800))"
   ]
  },
  {
   "cell_type": "code",
   "execution_count": 20,
   "metadata": {
    "collapsed": true
   },
   "outputs": [],
   "source": [
    "from dipy.io.trackvis import save_trk\n",
    "\n",
    "save_trk(dname+\"tracto_gtab_tricked_den_sd_2_peaks08.trk\", streamlines, affine, FA.shape)"
   ]
  },
  {
   "cell_type": "code",
   "execution_count": null,
   "metadata": {
    "collapsed": true
   },
   "outputs": [],
   "source": []
  },
  {
   "cell_type": "code",
   "execution_count": null,
   "metadata": {
    "collapsed": true
   },
   "outputs": [],
   "source": []
  },
  {
   "cell_type": "markdown",
   "metadata": {},
   "source": [
    "Post tracking filtering"
   ]
  },
  {
   "cell_type": "code",
   "execution_count": 22,
   "metadata": {
    "collapsed": true
   },
   "outputs": [],
   "source": [
    "import postprocessing4ExploreDTIdata as pp"
   ]
  },
  {
   "cell_type": "code",
   "execution_count": 23,
   "metadata": {
    "collapsed": false
   },
   "outputs": [
    {
     "name": "stdout",
     "output_type": "stream",
     "text": [
      "Nb. streamlines:\n",
      "2382512\n",
      "Min length:\n",
      "0\n",
      "Max length:\n",
      "105.24\n"
     ]
    }
   ],
   "source": [
    "lengths = pp.getLengths(streamlines)"
   ]
  },
  {
   "cell_type": "code",
   "execution_count": 24,
   "metadata": {
    "collapsed": false
   },
   "outputs": [
    {
     "name": "stdout",
     "output_type": "stream",
     "text": [
      "Nb. streamlines:\n",
      "2382512\n",
      "Min length:\n",
      "0\n",
      "Max length:\n",
      "105.24\n",
      "Nb. new streamlines:\n",
      "2095191\n"
     ]
    }
   ],
   "source": [
    "streamlines1 = pp.filterLength(streamlines,1) #length threshold"
   ]
  },
  {
   "cell_type": "code",
   "execution_count": 25,
   "metadata": {
    "collapsed": false
   },
   "outputs": [],
   "source": [
    "fnew_tractogram = dname + 'tracto_filtered.trk'\n",
    "save_trk(fnew_tractogram, streamlines1, affine, FA.shape)"
   ]
  },
  {
   "cell_type": "code",
   "execution_count": null,
   "metadata": {
    "collapsed": false
   },
   "outputs": [],
   "source": [
    "clusters = pp.computeQuickBundles(streamlines1,1.)"
   ]
  },
  {
   "cell_type": "code",
   "execution_count": null,
   "metadata": {
    "collapsed": false
   },
   "outputs": [],
   "source": [
    "fnew_tractogram2 = dname + 'tracto_filtered_clusters.trk'\n",
    "save_trk(fnew_tractogram2, clusters.centroids, affine, FA.shape)"
   ]
  },
  {
   "cell_type": "code",
   "execution_count": null,
   "metadata": {
    "collapsed": false
   },
   "outputs": [],
   "source": [
    "streamlines2 = pp.filterSmallBundles(streamlines1, clusters, 10.) #less than 10 streamlines in a bundle"
   ]
  },
  {
   "cell_type": "code",
   "execution_count": null,
   "metadata": {
    "collapsed": true
   },
   "outputs": [],
   "source": [
    "fnew_tractogram3 = dname + 'tracto_filtered_bund.trk'\n",
    "save_trk(fnew_tractogram3, streamlines2, affine, FA.shape)"
   ]
  },
  {
   "cell_type": "code",
   "execution_count": null,
   "metadata": {
    "collapsed": false
   },
   "outputs": [],
   "source": [
    "clusters2 = pp.computeQuickBundles(streamlines2,1.)"
   ]
  },
  {
   "cell_type": "code",
   "execution_count": null,
   "metadata": {
    "collapsed": false
   },
   "outputs": [],
   "source": [
    "fnew_tractogram4 = dname + 'tracto_filtered_clusters2.trk'\n",
    "save_trk(fnew_tractogram4, clusters2.centroids, affine, FA.shape)"
   ]
  },
  {
   "cell_type": "code",
   "execution_count": null,
   "metadata": {
    "collapsed": true
   },
   "outputs": [],
   "source": []
  }
 ],
 "metadata": {
  "anaconda-cloud": {},
  "kernelspec": {
   "display_name": "Python [conda root]",
   "language": "python",
   "name": "conda-root-py"
  },
  "language_info": {
   "codemirror_mode": {
    "name": "ipython",
    "version": 2
   },
   "file_extension": ".py",
   "mimetype": "text/x-python",
   "name": "python",
   "nbconvert_exporter": "python",
   "pygments_lexer": "ipython2",
   "version": "2.7.12"
  }
 },
 "nbformat": 4,
 "nbformat_minor": 1
}
